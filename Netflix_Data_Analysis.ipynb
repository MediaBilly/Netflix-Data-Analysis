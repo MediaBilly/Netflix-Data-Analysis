{
  "nbformat": 4,
  "nbformat_minor": 0,
  "metadata": {
    "colab": {
      "name": "Data Mining Project 1.ipynb",
      "provenance": [],
      "collapsed_sections": [],
      "toc_visible": true
    },
    "kernelspec": {
      "name": "python3",
      "display_name": "Python 3"
    },
    "language_info": {
      "name": "python"
    }
  },
  "cells": [
    {
      "cell_type": "markdown",
      "metadata": {
        "id": "hBtENR4cWKPa"
      },
      "source": [
        "**Τεχνικές Εξόρυξης Δεδομένων εργασία 1**\n",
        "\n",
        "Συντελεστές:\n",
        "\n",
        "\n",
        "*   Κυριακόπουλος Βασίλειος 1115201700064\n",
        "*   Κουτσάκης Δημήτριος 1115201700061\n",
        "\n"
      ]
    },
    {
      "cell_type": "markdown",
      "metadata": {
        "id": "_-FqIh5oZT0n"
      },
      "source": [
        "**Import necessary libraries**"
      ]
    },
    {
      "cell_type": "code",
      "metadata": {
        "id": "DCTUA9HsZZf4"
      },
      "source": [
        "import pandas as pd\n",
        "import matplotlib.pyplot as plt\n",
        "from sklearn.feature_extraction.text import CountVectorizer, TfidfVectorizer\n",
        "from sklearn.metrics.pairwise import cosine_similarity\n",
        "from sklearn.metrics import pairwise_distances\n",
        "import numpy as np\n",
        "import re\n",
        "import string\n",
        "\n",
        "%matplotlib inline"
      ],
      "execution_count": 1,
      "outputs": []
    },
    {
      "cell_type": "markdown",
      "metadata": {
        "id": "YrA-bPUBb3h1"
      },
      "source": [
        "**Read Netflix titles data into a dataframe**"
      ]
    },
    {
      "cell_type": "code",
      "metadata": {
        "colab": {
          "base_uri": "https://localhost:8080/",
          "height": 759
        },
        "id": "QMMdYrxZZdxn",
        "outputId": "3309544c-ca5f-4bcb-89f9-cbfecc512012"
      },
      "source": [
        "df = pd.read_csv('netflix_titles.csv').fillna('')\n",
        "df"
      ],
      "execution_count": 2,
      "outputs": [
        {
          "output_type": "execute_result",
          "data": {
            "text/html": [
              "<div>\n",
              "<style scoped>\n",
              "    .dataframe tbody tr th:only-of-type {\n",
              "        vertical-align: middle;\n",
              "    }\n",
              "\n",
              "    .dataframe tbody tr th {\n",
              "        vertical-align: top;\n",
              "    }\n",
              "\n",
              "    .dataframe thead th {\n",
              "        text-align: right;\n",
              "    }\n",
              "</style>\n",
              "<table border=\"1\" class=\"dataframe\">\n",
              "  <thead>\n",
              "    <tr style=\"text-align: right;\">\n",
              "      <th></th>\n",
              "      <th>show_id</th>\n",
              "      <th>type</th>\n",
              "      <th>title</th>\n",
              "      <th>director</th>\n",
              "      <th>cast</th>\n",
              "      <th>country</th>\n",
              "      <th>date_added</th>\n",
              "      <th>release_year</th>\n",
              "      <th>rating</th>\n",
              "      <th>duration</th>\n",
              "      <th>listed_in</th>\n",
              "      <th>description</th>\n",
              "    </tr>\n",
              "  </thead>\n",
              "  <tbody>\n",
              "    <tr>\n",
              "      <th>0</th>\n",
              "      <td>s1</td>\n",
              "      <td>TV Show</td>\n",
              "      <td>3%</td>\n",
              "      <td></td>\n",
              "      <td>João Miguel, Bianca Comparato, Michel Gomes, R...</td>\n",
              "      <td>Brazil</td>\n",
              "      <td>August 14, 2020</td>\n",
              "      <td>2020</td>\n",
              "      <td>TV-MA</td>\n",
              "      <td>4 Seasons</td>\n",
              "      <td>International TV Shows, TV Dramas, TV Sci-Fi &amp;...</td>\n",
              "      <td>In a future where the elite inhabit an island ...</td>\n",
              "    </tr>\n",
              "    <tr>\n",
              "      <th>1</th>\n",
              "      <td>s2</td>\n",
              "      <td>Movie</td>\n",
              "      <td>7:19</td>\n",
              "      <td>Jorge Michel Grau</td>\n",
              "      <td>Demián Bichir, Héctor Bonilla, Oscar Serrano, ...</td>\n",
              "      <td>Mexico</td>\n",
              "      <td>December 23, 2016</td>\n",
              "      <td>2016</td>\n",
              "      <td>TV-MA</td>\n",
              "      <td>93 min</td>\n",
              "      <td>Dramas, International Movies</td>\n",
              "      <td>After a devastating earthquake hits Mexico Cit...</td>\n",
              "    </tr>\n",
              "    <tr>\n",
              "      <th>2</th>\n",
              "      <td>s3</td>\n",
              "      <td>Movie</td>\n",
              "      <td>23:59</td>\n",
              "      <td>Gilbert Chan</td>\n",
              "      <td>Tedd Chan, Stella Chung, Henley Hii, Lawrence ...</td>\n",
              "      <td>Singapore</td>\n",
              "      <td>December 20, 2018</td>\n",
              "      <td>2011</td>\n",
              "      <td>R</td>\n",
              "      <td>78 min</td>\n",
              "      <td>Horror Movies, International Movies</td>\n",
              "      <td>When an army recruit is found dead, his fellow...</td>\n",
              "    </tr>\n",
              "    <tr>\n",
              "      <th>3</th>\n",
              "      <td>s4</td>\n",
              "      <td>Movie</td>\n",
              "      <td>9</td>\n",
              "      <td>Shane Acker</td>\n",
              "      <td>Elijah Wood, John C. Reilly, Jennifer Connelly...</td>\n",
              "      <td>United States</td>\n",
              "      <td>November 16, 2017</td>\n",
              "      <td>2009</td>\n",
              "      <td>PG-13</td>\n",
              "      <td>80 min</td>\n",
              "      <td>Action &amp; Adventure, Independent Movies, Sci-Fi...</td>\n",
              "      <td>In a postapocalyptic world, rag-doll robots hi...</td>\n",
              "    </tr>\n",
              "    <tr>\n",
              "      <th>4</th>\n",
              "      <td>s5</td>\n",
              "      <td>Movie</td>\n",
              "      <td>21</td>\n",
              "      <td>Robert Luketic</td>\n",
              "      <td>Jim Sturgess, Kevin Spacey, Kate Bosworth, Aar...</td>\n",
              "      <td>United States</td>\n",
              "      <td>January 1, 2020</td>\n",
              "      <td>2008</td>\n",
              "      <td>PG-13</td>\n",
              "      <td>123 min</td>\n",
              "      <td>Dramas</td>\n",
              "      <td>A brilliant group of students become card-coun...</td>\n",
              "    </tr>\n",
              "    <tr>\n",
              "      <th>...</th>\n",
              "      <td>...</td>\n",
              "      <td>...</td>\n",
              "      <td>...</td>\n",
              "      <td>...</td>\n",
              "      <td>...</td>\n",
              "      <td>...</td>\n",
              "      <td>...</td>\n",
              "      <td>...</td>\n",
              "      <td>...</td>\n",
              "      <td>...</td>\n",
              "      <td>...</td>\n",
              "      <td>...</td>\n",
              "    </tr>\n",
              "    <tr>\n",
              "      <th>7782</th>\n",
              "      <td>s7783</td>\n",
              "      <td>Movie</td>\n",
              "      <td>Zozo</td>\n",
              "      <td>Josef Fares</td>\n",
              "      <td>Imad Creidi, Antoinette Turk, Elias Gergi, Car...</td>\n",
              "      <td>Sweden, Czech Republic, United Kingdom, Denmar...</td>\n",
              "      <td>October 19, 2020</td>\n",
              "      <td>2005</td>\n",
              "      <td>TV-MA</td>\n",
              "      <td>99 min</td>\n",
              "      <td>Dramas, International Movies</td>\n",
              "      <td>When Lebanon's Civil War deprives Zozo of his ...</td>\n",
              "    </tr>\n",
              "    <tr>\n",
              "      <th>7783</th>\n",
              "      <td>s7784</td>\n",
              "      <td>Movie</td>\n",
              "      <td>Zubaan</td>\n",
              "      <td>Mozez Singh</td>\n",
              "      <td>Vicky Kaushal, Sarah-Jane Dias, Raaghav Chanan...</td>\n",
              "      <td>India</td>\n",
              "      <td>March 2, 2019</td>\n",
              "      <td>2015</td>\n",
              "      <td>TV-14</td>\n",
              "      <td>111 min</td>\n",
              "      <td>Dramas, International Movies, Music &amp; Musicals</td>\n",
              "      <td>A scrappy but poor boy worms his way into a ty...</td>\n",
              "    </tr>\n",
              "    <tr>\n",
              "      <th>7784</th>\n",
              "      <td>s7785</td>\n",
              "      <td>Movie</td>\n",
              "      <td>Zulu Man in Japan</td>\n",
              "      <td></td>\n",
              "      <td>Nasty C</td>\n",
              "      <td></td>\n",
              "      <td>September 25, 2020</td>\n",
              "      <td>2019</td>\n",
              "      <td>TV-MA</td>\n",
              "      <td>44 min</td>\n",
              "      <td>Documentaries, International Movies, Music &amp; M...</td>\n",
              "      <td>In this documentary, South African rapper Nast...</td>\n",
              "    </tr>\n",
              "    <tr>\n",
              "      <th>7785</th>\n",
              "      <td>s7786</td>\n",
              "      <td>TV Show</td>\n",
              "      <td>Zumbo's Just Desserts</td>\n",
              "      <td></td>\n",
              "      <td>Adriano Zumbo, Rachel Khoo</td>\n",
              "      <td>Australia</td>\n",
              "      <td>October 31, 2020</td>\n",
              "      <td>2019</td>\n",
              "      <td>TV-PG</td>\n",
              "      <td>1 Season</td>\n",
              "      <td>International TV Shows, Reality TV</td>\n",
              "      <td>Dessert wizard Adriano Zumbo looks for the nex...</td>\n",
              "    </tr>\n",
              "    <tr>\n",
              "      <th>7786</th>\n",
              "      <td>s7787</td>\n",
              "      <td>Movie</td>\n",
              "      <td>ZZ TOP: THAT LITTLE OL' BAND FROM TEXAS</td>\n",
              "      <td>Sam Dunn</td>\n",
              "      <td></td>\n",
              "      <td>United Kingdom, Canada, United States</td>\n",
              "      <td>March 1, 2020</td>\n",
              "      <td>2019</td>\n",
              "      <td>TV-MA</td>\n",
              "      <td>90 min</td>\n",
              "      <td>Documentaries, Music &amp; Musicals</td>\n",
              "      <td>This documentary delves into the mystique behi...</td>\n",
              "    </tr>\n",
              "  </tbody>\n",
              "</table>\n",
              "<p>7787 rows × 12 columns</p>\n",
              "</div>"
            ],
            "text/plain": [
              "     show_id  ...                                        description\n",
              "0         s1  ...  In a future where the elite inhabit an island ...\n",
              "1         s2  ...  After a devastating earthquake hits Mexico Cit...\n",
              "2         s3  ...  When an army recruit is found dead, his fellow...\n",
              "3         s4  ...  In a postapocalyptic world, rag-doll robots hi...\n",
              "4         s5  ...  A brilliant group of students become card-coun...\n",
              "...      ...  ...                                                ...\n",
              "7782   s7783  ...  When Lebanon's Civil War deprives Zozo of his ...\n",
              "7783   s7784  ...  A scrappy but poor boy worms his way into a ty...\n",
              "7784   s7785  ...  In this documentary, South African rapper Nast...\n",
              "7785   s7786  ...  Dessert wizard Adriano Zumbo looks for the nex...\n",
              "7786   s7787  ...  This documentary delves into the mystique behi...\n",
              "\n",
              "[7787 rows x 12 columns]"
            ]
          },
          "metadata": {
            "tags": []
          },
          "execution_count": 2
        }
      ]
    },
    {
      "cell_type": "markdown",
      "metadata": {
        "id": "_Evo940Ty3jE"
      },
      "source": [
        "# Part 1: Ερωτήματα"
      ]
    },
    {
      "cell_type": "markdown",
      "metadata": {
        "id": "gCNQZ3Twhstp"
      },
      "source": [
        "**Ερώτημα 1:**\n",
        "Ποιό είδος υπερτερεί, οι ταινίες ή οι σειρές ;"
      ]
    },
    {
      "cell_type": "code",
      "metadata": {
        "id": "opeMcWSZcEYm",
        "colab": {
          "base_uri": "https://localhost:8080/",
          "height": 265
        },
        "outputId": "a1c759ed-1e2e-4b36-fcae-a202423e5e7a"
      },
      "source": [
        "typeCounts = df[['type','show_id']].groupby('type').count().rename(columns={'show_id':'count'})\n",
        "typeCounts.plot.pie(x='type',y='count',ylabel='')"
      ],
      "execution_count": 3,
      "outputs": [
        {
          "output_type": "execute_result",
          "data": {
            "text/plain": [
              "<matplotlib.axes._subplots.AxesSubplot at 0x7fd9dbe1c650>"
            ]
          },
          "metadata": {
            "tags": []
          },
          "execution_count": 3
        },
        {
          "output_type": "display_data",
          "data": {
            "image/png": "[encoded data removed]",
            "text/plain": [
              "<Figure size 432x288 with 1 Axes>"
            ]
          },
          "metadata": {
            "tags": []
          }
        }
      ]
    },
    {
      "cell_type": "markdown",
      "metadata": {
        "id": "5KWv1NDXiWKf"
      },
      "source": [
        "**Ερώτημα 2:**\n",
        "Τα τελευταία χρόνια το netflix επενδύει περισσότερο σε ταινίες ή σε σειρές;"
      ]
    },
    {
      "cell_type": "code",
      "metadata": {
        "colab": {
          "base_uri": "https://localhost:8080/",
          "height": 297
        },
        "id": "fuGVCMv8ibuO",
        "outputId": "d7d4dcb5-2bc6-4584-c5b4-5d97d9a355fc"
      },
      "source": [
        "MoviesPerYear = df[['show_id']].loc[df[\"type\"] == \"Movie\"].loc[df['date_added']!=''].groupby(df[\"date_added\"].map(lambda x: x[-4:])).count().reset_index().rename(columns={'date_added':'year_added','show_id':'count'})\n",
        "TVShowsPerYear = df[['show_id']].loc[df[\"type\"] == \"TV Show\"].loc[df['date_added']!=''].groupby(df[\"date_added\"].map(lambda x: x[-4:])).count().reset_index().rename(columns={'date_added':'year_added','show_id':'count'})\n",
        "\n",
        "plt.plot(MoviesPerYear[\"year_added\"], MoviesPerYear[\"count\"])\n",
        "plt.plot(TVShowsPerYear[\"year_added\"], TVShowsPerYear[\"count\"])\n",
        "plt.xticks(rotation=45)\n",
        "plt.legend(['Movies','TV Shows'])\n"
      ],
      "execution_count": 4,
      "outputs": [
        {
          "output_type": "execute_result",
          "data": {
            "text/plain": [
              "<matplotlib.legend.Legend at 0x7fd9cc312cd0>"
            ]
          },
          "metadata": {
            "tags": []
          },
          "execution_count": 4
        },
        {
          "output_type": "display_data",
          "data": {
            "image/png": "[encoded data removed]",
            "text/plain": [
              "<Figure size 432x288 with 1 Axes>"
            ]
          },
          "metadata": {
            "tags": [],
            "needs_background": "light"
          }
        }
      ]
    },
    {
      "cell_type": "markdown",
      "metadata": {
        "id": "gw95V04LguPF"
      },
      "source": [
        "**Ερώτημα 3:**\n",
        "Ποιά χώρα έχει το περισσότερο περιεχόμενο;"
      ]
    },
    {
      "cell_type": "code",
      "metadata": {
        "id": "BobNKzBcg6Z6",
        "colab": {
          "base_uri": "https://localhost:8080/",
          "height": 383
        },
        "outputId": "3daa210c-25cb-47bc-d799-eb91663b98ab"
      },
      "source": [
        "countriesByContent = df[['country','show_id']].loc[df['country']!=\"\"].replace(to_replace=r',$',value='',regex=True)\n",
        "countriesByContent = countriesByContent.assign(country=countriesByContent['country'].str.split(', ')).explode('country').groupby('country',as_index=False).count().rename(columns={'show_id':'content'}).sort_values(by=['content'],ascending=False)\n",
        "countriesByContent.head(10).plot.bar(x='country',y='content',rot=90,title='Top 10 Countries with the most content')"
      ],
      "execution_count": 5,
      "outputs": [
        {
          "output_type": "execute_result",
          "data": {
            "text/plain": [
              "<matplotlib.axes._subplots.AxesSubplot at 0x7fd9cbd00250>"
            ]
          },
          "metadata": {
            "tags": []
          },
          "execution_count": 5
        },
        {
          "output_type": "display_data",
          "data": {
            "image/png": "[encoded data removed]",
            "text/plain": [
              "<Figure size 432x288 with 1 Axes>"
            ]
          },
          "metadata": {
            "tags": [],
            "needs_background": "light"
          }
        }
      ]
    },
    {
      "cell_type": "code",
      "metadata": {
        "colab": {
          "base_uri": "https://localhost:8080/"
        },
        "id": "0TxZPr47lrGX",
        "outputId": "cb5d32a7-7050-42b8-97e7-dcb0f6ca1b26"
      },
      "source": [
        "print('Country with the most content: ' + countriesByContent.values[0][0] + ' with ' + str(countriesByContent.values[0][1]) + ' Movies and TV Shows')"
      ],
      "execution_count": 6,
      "outputs": [
        {
          "output_type": "stream",
          "text": [
            "Country with the most content: United States with 3297 Movies and TV Shows\n"
          ],
          "name": "stdout"
        }
      ]
    },
    {
      "cell_type": "markdown",
      "metadata": {
        "id": "gFrMsstWmMaW"
      },
      "source": [
        "**Ερώτημα 4:**\n",
        "Τι είδους περιεχόμενο έχει κάθε χώρα;"
      ]
    },
    {
      "cell_type": "code",
      "metadata": {
        "id": "Hka0yvlYmV8t",
        "colab": {
          "base_uri": "https://localhost:8080/"
        },
        "outputId": "48f8bd24-9fc3-418d-ef00-4adb5416e71b"
      },
      "source": [
        "countryGenres = df[['country','listed_in','show_id']].loc[df['country']!=\"\"].loc[df['listed_in']!=\"\"].replace(to_replace=r',$',value='',regex=True)\n",
        "countryGenres = countryGenres.assign(country=countryGenres['country'].str.split(', ')).explode('country').assign(listed_in=countryGenres['listed_in'].str.split(', ')).explode('listed_in').groupby(['country','listed_in'],as_index=False).count().rename(columns={'listed_in':'genre','show_id':'content'})\n",
        "for row in countryGenres.values:\n",
        "  print(row[0] + ' has ' + str(row[2]) + ' ' + row[1])"
      ],
      "execution_count": 7,
      "outputs": [
        {
          "output_type": "stream",
          "text": [
            "Afghanistan has 1 Documentaries\n",
            "Afghanistan has 1 International Movies\n",
            "Albania has 1 Dramas\n",
            "Albania has 1 International Movies\n",
            "Algeria has 1 Classic Movies\n",
            "Algeria has 2 Dramas\n",
            "Algeria has 2 International Movies\n",
            "Angola has 1 Action & Adventure\n",
            "Angola has 1 International Movies\n",
            "Argentina has 3 Action & Adventure\n",
            "Argentina has 3 Children & Family Movies\n",
            "Argentina has 1 Classic Movies\n",
            "Argentina has 13 Comedies\n",
            "Argentina has 6 Crime TV Shows\n",
            "Argentina has 1 Cult Movies\n",
            "Argentina has 9 Documentaries\n",
            "Argentina has 2 Docuseries\n",
            "Argentina has 32 Dramas\n",
            "Argentina has 3 Horror Movies\n",
            "Argentina has 6 Independent Movies\n",
            "Argentina has 51 International Movies\n",
            "Argentina has 14 International TV Shows\n",
            "Argentina has 3 Kids' TV\n",
            "Argentina has 1 LGBTQ Movies\n",
            "Argentina has 1 Movies\n",
            "Argentina has 5 Music & Musicals\n",
            "Argentina has 1 Reality TV\n",
            "Argentina has 3 Romantic Movies\n",
            "Argentina has 2 Romantic TV Shows\n",
            "Argentina has 1 Sci-Fi & Fantasy\n",
            "Argentina has 17 Spanish-Language TV Shows\n",
            "Argentina has 6 Sports Movies\n",
            "Argentina has 7 Stand-Up Comedy\n",
            "Argentina has 2 TV Comedies\n",
            "Argentina has 2 TV Dramas\n",
            "Argentina has 1 TV Horror\n",
            "Argentina has 1 Teen TV Shows\n",
            "Argentina has 6 Thrillers\n",
            "Armenia has 1 Documentaries\n",
            "Armenia has 1 International Movies\n",
            "Australia has 12 Action & Adventure\n",
            "Australia has 3 British TV Shows\n",
            "Australia has 18 Children & Family Movies\n",
            "Australia has 4 Classic Movies\n",
            "Australia has 15 Comedies\n",
            "Australia has 8 Crime TV Shows\n",
            "Australia has 2 Cult Movies\n",
            "Australia has 13 Documentaries\n",
            "Australia has 10 Docuseries\n",
            "Australia has 33 Dramas\n",
            "Australia has 3 Horror Movies\n",
            "Australia has 7 Independent Movies\n",
            "Australia has 25 International Movies\n",
            "Australia has 28 International TV Shows\n",
            "Australia has 17 Kids' TV\n",
            "Australia has 3 LGBTQ Movies\n",
            "Australia has 3 Movies\n",
            "Australia has 4 Music & Musicals\n",
            "Australia has 11 Reality TV\n",
            "Australia has 4 Romantic Movies\n",
            "Australia has 3 Romantic TV Shows\n",
            "Australia has 7 Sci-Fi & Fantasy\n",
            "Australia has 6 Science & Nature TV\n",
            "Australia has 7 Sports Movies\n",
            "Australia has 3 Stand-Up Comedy\n",
            "Australia has 2 TV Action & Adventure\n",
            "Australia has 14 TV Comedies\n",
            "Australia has 19 TV Dramas\n",
            "Australia has 1 TV Horror\n",
            "Australia has 2 TV Mysteries\n",
            "Australia has 3 TV Sci-Fi & Fantasy\n",
            "Australia has 2 TV Thrillers\n",
            "Australia has 1 Teen TV Shows\n",
            "Australia has 8 Thrillers\n",
            "Austria has 1 Crime TV Shows\n",
            "Austria has 3 Documentaries\n",
            "Austria has 6 Dramas\n",
            "Austria has 4 Independent Movies\n",
            "Austria has 8 International Movies\n",
            "Austria has 1 International TV Shows\n",
            "Austria has 1 Sci-Fi & Fantasy\n",
            "Austria has 1 Sports Movies\n",
            "Austria has 1 TV Dramas\n",
            "Austria has 1 Thrillers\n",
            "Azerbaijan has 1 International TV Shows\n",
            "Azerbaijan has 1 Romantic TV Shows\n",
            "Azerbaijan has 1 TV Dramas\n",
            "Bahamas has 1 Action & Adventure\n",
            "Bangladesh has 1 Comedies\n",
            "Bangladesh has 3 Dramas\n",
            "Bangladesh has 3 Independent Movies\n",
            "Bangladesh has 2 International Movies\n",
            "Belarus has 1 British TV Shows\n",
            "Belarus has 1 Kids' TV\n",
            "Belarus has 1 TV Comedies\n",
            "Belgium has 11 Action & Adventure\n",
            "Belgium has 7 Children & Family Movies\n",
            "Belgium has 1 Classic Movies\n",
            "Belgium has 19 Comedies\n",
            "Belgium has 7 Crime TV Shows\n",
            "Belgium has 6 Documentaries\n",
            "Belgium has 42 Dramas\n",
            "Belgium has 4 Horror Movies\n",
            "Belgium has 15 Independent Movies\n",
            "Belgium has 55 International Movies\n",
            "Belgium has 10 International TV Shows\n",
            "Belgium has 1 Kids' TV\n",
            "Belgium has 3 LGBTQ Movies\n",
            "Belgium has 2 Music & Musicals\n",
            "Belgium has 3 Romantic Movies\n",
            "Belgium has 3 Sci-Fi & Fantasy\n",
            "Belgium has 2 TV Action & Adventure\n",
            "Belgium has 8 TV Dramas\n",
            "Belgium has 2 TV Mysteries\n",
            "Belgium has 1 TV Sci-Fi & Fantasy\n",
            "Belgium has 10 Thrillers\n",
            "Bermuda has 1 Documentaries\n",
            "Botswana has 1 Documentaries\n",
            "Brazil has 3 Action & Adventure\n",
            "Brazil has 7 Children & Family Movies\n",
            "Brazil has 17 Comedies\n",
            "Brazil has 5 Crime TV Shows\n",
            "Brazil has 12 Documentaries\n",
            "Brazil has 5 Docuseries\n",
            "Brazil has 23 Dramas\n",
            "Brazil has 4 Faith & Spirituality\n",
            "Brazil has 10 Independent Movies\n",
            "Brazil has 37 International Movies\n",
            "Brazil has 25 International TV Shows\n",
            "Brazil has 3 Kids' TV\n",
            "Brazil has 3 LGBTQ Movies\n",
            "Brazil has 4 Music & Musicals\n",
            "Brazil has 5 Reality TV\n",
            "Brazil has 2 Romantic Movies\n",
            "Brazil has 2 Romantic TV Shows\n",
            "Brazil has 2 Science & Nature TV\n",
            "Brazil has 2 Sports Movies\n",
            "Brazil has 9 Stand-Up Comedy\n",
            "Brazil has 1 Stand-Up Comedy & Talk Shows\n",
            "Brazil has 6 TV Comedies\n",
            "Brazil has 10 TV Dramas\n",
            "Brazil has 2 TV Horror\n",
            "Brazil has 5 TV Mysteries\n",
            "Brazil has 2 TV Sci-Fi & Fantasy\n",
            "Brazil has 3 Thrillers\n",
            "Bulgaria has 4 Action & Adventure\n",
            "Bulgaria has 1 Children & Family Movies\n",
            "Bulgaria has 2 Dramas\n",
            "Bulgaria has 1 Horror Movies\n",
            "Bulgaria has 1 Independent Movies\n",
            "Bulgaria has 4 International Movies\n",
            "Bulgaria has 1 Sci-Fi & Fantasy\n",
            "Bulgaria has 3 Thrillers\n",
            "Cambodia has 2 Action & Adventure\n",
            "Cambodia has 1 Children & Family Movies\n",
            "Cambodia has 1 Comedies\n",
            "Cambodia has 2 Dramas\n",
            "Cambodia has 3 International Movies\n",
            "Cambodia has 1 Sci-Fi & Fantasy\n",
            "Canada has 37 Action & Adventure\n",
            "Canada has 2 Anime Series\n",
            "Canada has 3 British TV Shows\n",
            "Canada has 68 Children & Family Movies\n",
            "Canada has 4 Classic & Cult TV\n",
            "Canada has 81 Comedies\n",
            "Canada has 15 Crime TV Shows\n",
            "Canada has 6 Cult Movies\n",
            "Canada has 41 Documentaries\n",
            "Canada has 11 Docuseries\n",
            "Canada has 71 Dramas\n",
            "Canada has 3 Faith & Spirituality\n",
            "Canada has 31 Horror Movies\n",
            "Canada has 39 Independent Movies\n",
            "Canada has 56 International Movies\n",
            "Canada has 24 International TV Shows\n",
            "Canada has 61 Kids' TV\n",
            "Canada has 1 Korean TV Shows\n",
            "Canada has 6 LGBTQ Movies\n",
            "Canada has 6 Movies\n",
            "Canada has 13 Music & Musicals\n",
            "Canada has 9 Reality TV\n",
            "Canada has 22 Romantic Movies\n",
            "Canada has 2 Romantic TV Shows\n",
            "Canada has 22 Sci-Fi & Fantasy\n",
            "Canada has 4 Science & Nature TV\n",
            "Canada has 12 Sports Movies\n",
            "Canada has 2 Stand-Up Comedy\n",
            "Canada has 12 TV Action & Adventure\n",
            "Canada has 29 TV Comedies\n",
            "Canada has 32 TV Dramas\n",
            "Canada has 8 TV Horror\n",
            "Canada has 9 TV Mysteries\n",
            "Canada has 9 TV Sci-Fi & Fantasy\n",
            "Canada has 5 TV Thrillers\n",
            "Canada has 2 Teen TV Shows\n",
            "Canada has 45 Thrillers\n",
            "Cayman Islands has 2 Children & Family Movies\n",
            "Cayman Islands has 2 Comedies\n",
            "Chile has 1 Action & Adventure\n",
            "Chile has 1 Children & Family Movies\n",
            "Chile has 7 Comedies\n",
            "Chile has 1 Crime TV Shows\n",
            "Chile has 10 Dramas\n",
            "Chile has 2 Horror Movies\n",
            "Chile has 5 Independent Movies\n",
            "Chile has 15 International Movies\n",
            "Chile has 5 International TV Shows\n",
            "Chile has 1 Romantic Movies\n",
            "Chile has 4 Spanish-Language TV Shows\n",
            "Chile has 1 Sports Movies\n",
            "Chile has 3 Stand-Up Comedy\n",
            "Chile has 4 TV Dramas\n",
            "Chile has 2 Thrillers\n",
            "China has 55 Action & Adventure\n",
            "China has 1 Anime Features\n",
            "China has 2 British TV Shows\n",
            "China has 15 Children & Family Movies\n",
            "China has 30 Comedies\n",
            "China has 4 Crime TV Shows\n",
            "China has 1 Cult Movies\n",
            "China has 6 Documentaries\n",
            "China has 1 Docuseries\n",
            "China has 28 Dramas\n",
            "China has 1 Faith & Spirituality\n",
            "China has 2 Horror Movies\n",
            "China has 2 Independent Movies\n",
            "China has 64 International Movies\n",
            "China has 38 International TV Shows\n",
            "China has 6 Kids' TV\n",
            "China has 1 Korean TV Shows\n",
            "China has 2 Music & Musicals\n",
            "China has 1 Reality TV\n",
            "China has 9 Romantic Movies\n",
            "China has 21 Romantic TV Shows\n",
            "China has 13 Sci-Fi & Fantasy\n",
            "China has 1 Sports Movies\n",
            "China has 7 TV Action & Adventure\n",
            "China has 12 TV Comedies\n",
            "China has 20 TV Dramas\n",
            "China has 1 TV Mysteries\n",
            "China has 3 TV Sci-Fi & Fantasy\n",
            "China has 4 Teen TV Shows\n",
            "China has 5 Thrillers\n",
            "Colombia has 1 Action & Adventure\n",
            "Colombia has 7 Comedies\n",
            "Colombia has 17 Crime TV Shows\n",
            "Colombia has 3 Documentaries\n",
            "Colombia has 1 Docuseries\n",
            "Colombia has 5 Dramas\n",
            "Colombia has 2 Independent Movies\n",
            "Colombia has 13 International Movies\n",
            "Colombia has 27 International TV Shows\n",
            "Colombia has 2 Romantic Movies\n",
            "Colombia has 4 Romantic TV Shows\n",
            "Colombia has 1 Sci-Fi & Fantasy\n",
            "Colombia has 26 Spanish-Language TV Shows\n",
            "Colombia has 3 Stand-Up Comedy\n",
            "Colombia has 1 TV Action & Adventure\n",
            "Colombia has 1 TV Comedies\n",
            "Colombia has 7 TV Dramas\n",
            "Croatia has 1 Comedies\n",
            "Croatia has 2 Dramas\n",
            "Croatia has 2 Independent Movies\n",
            "Croatia has 2 International Movies\n",
            "Croatia has 1 International TV Shows\n",
            "Croatia has 1 TV Dramas\n",
            "Cuba has 1 Crime TV Shows\n",
            "Cuba has 1 International TV Shows\n",
            "Cuba has 1 Spanish-Language TV Shows\n",
            "Cyprus has 1 Kids' TV\n",
            "Cyprus has 1 TV Comedies\n",
            "Czech Republic has 5 Action & Adventure\n",
            "Czech Republic has 1 British TV Shows\n",
            "Czech Republic has 1 Children & Family Movies\n",
            "Czech Republic has 3 Comedies\n",
            "Czech Republic has 2 Crime TV Shows\n",
            "Czech Republic has 1 Cult Movies\n",
            "Czech Republic has 1 Documentaries\n",
            "Czech Republic has 4 Docuseries\n",
            "Czech Republic has 5 Dramas\n",
            "Czech Republic has 1 Horror Movies\n",
            "Czech Republic has 1 Independent Movies\n",
            "Czech Republic has 9 International Movies\n",
            "Czech Republic has 3 International TV Shows\n",
            "Czech Republic has 1 Reality TV\n",
            "Czech Republic has 1 Romantic Movies\n",
            "Czech Republic has 3 Sci-Fi & Fantasy\n",
            "Czech Republic has 1 Science & Nature TV\n",
            "Czech Republic has 1 Sports Movies\n",
            "Czech Republic has 1 TV Dramas\n",
            "Czech Republic has 1 TV Horror\n",
            "Czech Republic has 1 TV Thrillers\n",
            "Czech Republic has 1 Thrillers\n",
            "Denmark has 3 Action & Adventure\n",
            "Denmark has 3 Children & Family Movies\n",
            "Denmark has 1 Comedies\n",
            "Denmark has 2 Crime TV Shows\n",
            "Denmark has 1 Cult Movies\n",
            "Denmark has 9 Documentaries\n",
            "Denmark has 1 Docuseries\n",
            "Denmark has 15 Dramas\n",
            "Denmark has 7 Independent Movies\n",
            "Denmark has 21 International Movies\n",
            "Denmark has 10 International TV Shows\n",
            "Denmark has 3 Kids' TV\n",
            "Denmark has 1 LGBTQ Movies\n",
            "Denmark has 1 Romantic Movies\n",
            "Denmark has 1 Sports Movies\n",
            "Denmark has 1 TV Action & Adventure\n",
            "Denmark has 2 TV Comedies\n",
            "Denmark has 8 TV Dramas\n",
            "Denmark has 2 TV Mysteries\n",
            "Denmark has 1 TV Thrillers\n",
            "Denmark has 5 Thrillers\n",
            "Dominican Republic has 1 Horror Movies\n",
            "Dominican Republic has 1 International Movies\n",
            "Dominican Republic has 1 Thrillers\n",
            "East Germany has 1 Children & Family Movies\n",
            "East Germany has 1 Classic Movies\n",
            "East Germany has 1 Comedies\n",
            "Ecuador has 1 Documentaries\n",
            "Egypt has 14 Action & Adventure\n",
            "Egypt has 1 Children & Family Movies\n",
            "Egypt has 8 Classic Movies\n",
            "Egypt has 57 Comedies\n",
            "Egypt has 1 Crime TV Shows\n",
            "Egypt has 1 Documentaries\n",
            "Egypt has 41 Dramas\n",
            "Egypt has 3 Horror Movies\n",
            "Egypt has 3 Independent Movies\n",
            "Egypt has 95 International Movies\n",
            "Egypt has 13 International TV Shows\n",
            "Egypt has 3 Music & Musicals\n",
            "Egypt has 12 Romantic Movies\n",
            "Egypt has 3 Romantic TV Shows\n",
            "Egypt has 1 Sports Movies\n",
            "Egypt has 3 TV Comedies\n",
            "Egypt has 11 TV Dramas\n",
            "Egypt has 1 TV Horror\n",
            "Egypt has 2 TV Mysteries\n",
            "Egypt has 1 TV Sci-Fi & Fantasy\n",
            "Egypt has 4 Thrillers\n",
            "Finland has 1 Action & Adventure\n",
            "Finland has 1 British TV Shows\n",
            "Finland has 1 Children & Family Movies\n",
            "Finland has 2 Comedies\n",
            "Finland has 2 Crime TV Shows\n",
            "Finland has 3 Documentaries\n",
            "Finland has 2 Dramas\n",
            "Finland has 6 International Movies\n",
            "Finland has 2 International TV Shows\n",
            "Finland has 2 Kids' TV\n",
            "Finland has 1 Music & Musicals\n",
            "Finland has 1 Sports Movies\n",
            "Finland has 2 TV Comedies\n",
            "Finland has 2 TV Dramas\n",
            "France has 32 Action & Adventure\n",
            "France has 1 British TV Shows\n",
            "France has 19 Children & Family Movies\n",
            "France has 5 Classic Movies\n",
            "France has 48 Comedies\n",
            "France has 20 Crime TV Shows\n",
            "France has 2 Cult Movies\n",
            "France has 42 Documentaries\n",
            "France has 7 Docuseries\n",
            "France has 145 Dramas\n",
            "France has 2 Faith & Spirituality\n",
            "France has 9 Horror Movies\n",
            "France has 61 Independent Movies\n",
            "France has 191 International Movies\n",
            "France has 40 International TV Shows\n",
            "France has 41 Kids' TV\n",
            "France has 1 LGBTQ Movies\n",
            "France has 1 Movies\n",
            "France has 8 Music & Musicals\n",
            "France has 2 Reality TV\n",
            "France has 20 Romantic Movies\n",
            "France has 2 Romantic TV Shows\n",
            "France has 9 Sci-Fi & Fantasy\n",
            "France has 1 Science & Nature TV\n",
            "France has 12 Sports Movies\n",
            "France has 4 Stand-Up Comedy\n",
            "France has 1 Stand-Up Comedy & Talk Shows\n",
            "France has 4 TV Action & Adventure\n",
            "France has 22 TV Comedies\n",
            "France has 25 TV Dramas\n",
            "France has 3 TV Horror\n",
            "France has 2 TV Mysteries\n",
            "France has 1 TV Sci-Fi & Fantasy\n",
            "France has 3 TV Thrillers\n",
            "France has 33 Thrillers\n",
            "Georgia has 1 Documentaries\n",
            "Georgia has 1 Dramas\n",
            "Georgia has 1 Independent Movies\n",
            "Georgia has 2 International Movies\n",
            "Germany has 27 Action & Adventure\n",
            "Germany has 5 British TV Shows\n",
            "Germany has 17 Children & Family Movies\n",
            "Germany has 38 Comedies\n",
            "Germany has 16 Crime TV Shows\n",
            "Germany has 2 Cult Movies\n",
            "Germany has 19 Documentaries\n",
            "Germany has 7 Docuseries\n",
            "Germany has 68 Dramas\n",
            "Germany has 1 Faith & Spirituality\n",
            "Germany has 6 Horror Movies\n",
            "Germany has 26 Independent Movies\n",
            "Germany has 82 International Movies\n",
            "Germany has 33 International TV Shows\n",
            "Germany has 7 Kids' TV\n",
            "Germany has 2 LGBTQ Movies\n",
            "Germany has 2 Movies\n",
            "Germany has 6 Music & Musicals\n",
            "Germany has 3 Reality TV\n",
            "Germany has 9 Romantic Movies\n",
            "Germany has 1 Romantic TV Shows\n",
            "Germany has 11 Sci-Fi & Fantasy\n",
            "Germany has 3 Science & Nature TV\n",
            "Germany has 4 Sports Movies\n",
            "Germany has 4 Stand-Up Comedy\n",
            "Germany has 1 Stand-Up Comedy & Talk Shows\n",
            "Germany has 1 TV Action & Adventure\n",
            "Germany has 5 TV Comedies\n",
            "Germany has 20 TV Dramas\n",
            "Germany has 1 TV Mysteries\n",
            "Germany has 1 TV Sci-Fi & Fantasy\n",
            "Germany has 22 Thrillers\n",
            "Ghana has 2 Comedies\n",
            "Ghana has 4 Dramas\n",
            "Ghana has 1 Independent Movies\n",
            "Ghana has 4 International Movies\n",
            "Greece has 1 Action & Adventure\n",
            "Greece has 2 British TV Shows\n",
            "Greece has 1 Comedies\n",
            "Greece has 1 Documentaries\n",
            "Greece has 2 Docuseries\n",
            "Greece has 3 Dramas\n",
            "Greece has 2 Independent Movies\n",
            "Greece has 1 International Movies\n",
            "Greece has 1 International TV Shows\n",
            "Greece has 1 LGBTQ Movies\n",
            "Greece has 2 Movies\n",
            "Greece has 1 Romantic Movies\n",
            "Greece has 1 Sci-Fi & Fantasy\n",
            "Greece has 1 Science & Nature TV\n",
            "Guatemala has 1 Documentaries\n",
            "Guatemala has 1 Dramas\n",
            "Guatemala has 1 Independent Movies\n",
            "Guatemala has 2 International Movies\n",
            "Hong Kong has 66 Action & Adventure\n",
            "Hong Kong has 2 Children & Family Movies\n",
            "Hong Kong has 1 Classic Movies\n",
            "Hong Kong has 31 Comedies\n",
            "Hong Kong has 2 Crime TV Shows\n",
            "Hong Kong has 4 Cult Movies\n",
            "Hong Kong has 1 Documentaries\n",
            "Hong Kong has 31 Dramas\n",
            "Hong Kong has 4 Independent Movies\n",
            "Hong Kong has 81 International Movies\n",
            "Hong Kong has 5 International TV Shows\n",
            "Hong Kong has 1 Korean TV Shows\n",
            "Hong Kong has 1 Music & Musicals\n",
            "Hong Kong has 10 Romantic Movies\n",
            "Hong Kong has 2 Romantic TV Shows\n",
            "Hong Kong has 3 Sci-Fi & Fantasy\n",
            "Hong Kong has 1 Sports Movies\n",
            "Hong Kong has 1 TV Comedies\n",
            "Hong Kong has 4 TV Dramas\n",
            "Hong Kong has 3 Thrillers\n",
            "Hungary has 2 Action & Adventure\n",
            "Hungary has 1 Children & Family Movies\n",
            "Hungary has 6 Dramas\n",
            "Hungary has 4 International Movies\n",
            "Hungary has 1 Romantic Movies\n",
            "Hungary has 1 Sci-Fi & Fantasy\n",
            "Hungary has 1 TV Dramas\n",
            "Hungary has 1 Thrillers\n",
            "Iceland has 1 Action & Adventure\n",
            "Iceland has 2 Crime TV Shows\n",
            "Iceland has 5 Dramas\n",
            "Iceland has 1 Horror Movies\n",
            "Iceland has 3 Independent Movies\n",
            "Iceland has 2 International Movies\n",
            "Iceland has 2 International TV Shows\n",
            "Iceland has 1 Romantic Movies\n",
            "Iceland has 1 Sci-Fi & Fantasy\n",
            "Iceland has 1 Stand-Up Comedy\n",
            "Iceland has 2 TV Dramas\n",
            "Iceland has 1 Thrillers\n",
            "India has 134 Action & Adventure\n",
            "India has 2 British TV Shows\n",
            "India has 22 Children & Family Movies\n",
            "India has 11 Classic Movies\n",
            "India has 308 Comedies\n",
            "India has 9 Crime TV Shows\n",
            "India has 5 Cult Movies\n",
            "India has 26 Documentaries\n",
            "India has 7 Docuseries\n",
            "India has 626 Dramas\n",
            "India has 4 Faith & Spirituality\n",
            "India has 34 Horror Movies\n",
            "India has 145 Independent Movies\n",
            "India has 828 International Movies\n",
            "India has 60 International TV Shows\n",
            "India has 12 Kids' TV\n",
            "India has 2 LGBTQ Movies\n",
            "India has 97 Music & Musicals\n",
            "India has 4 Reality TV\n",
            "India has 113 Romantic Movies\n",
            "India has 10 Romantic TV Shows\n",
            "India has 12 Sci-Fi & Fantasy\n",
            "India has 18 Sports Movies\n",
            "India has 6 Stand-Up Comedy\n",
            "India has 3 Stand-Up Comedy & Talk Shows\n",
            "India has 5 TV Action & Adventure\n",
            "India has 25 TV Comedies\n",
            "India has 25 TV Dramas\n",
            "India has 7 TV Horror\n",
            "India has 3 TV Mysteries\n",
            "India has 3 TV Sci-Fi & Fantasy\n",
            "India has 2 TV Shows\n",
            "India has 3 TV Thrillers\n",
            "India has 1 Teen TV Shows\n",
            "India has 88 Thrillers\n",
            "Indonesia has 6 Action & Adventure\n",
            "Indonesia has 5 Children & Family Movies\n",
            "Indonesia has 13 Comedies\n",
            "Indonesia has 2 Documentaries\n",
            "Indonesia has 55 Dramas\n",
            "Indonesia has 5 Faith & Spirituality\n",
            "Indonesia has 10 Horror Movies\n",
            "Indonesia has 71 International Movies\n",
            "Indonesia has 2 International TV Shows\n",
            "Indonesia has 1 Kids' TV\n",
            "Indonesia has 1 Music & Musicals\n",
            "Indonesia has 23 Romantic Movies\n",
            "Indonesia has 1 Romantic TV Shows\n",
            "Indonesia has 2 Sci-Fi & Fantasy\n",
            "Indonesia has 4 Sports Movies\n",
            "Indonesia has 1 TV Comedies\n",
            "Indonesia has 2 TV Dramas\n",
            "Iran has 1 Classic Movies\n",
            "Iran has 3 Dramas\n",
            "Iran has 1 Horror Movies\n",
            "Iran has 2 Independent Movies\n",
            "Iran has 3 International Movies\n",
            "Iran has 1 Thrillers\n",
            "Iraq has 2 Documentaries\n",
            "Iraq has 2 International Movies\n",
            "Ireland has 3 Action & Adventure\n",
            "Ireland has 3 British TV Shows\n",
            "Ireland has 4 Children & Family Movies\n",
            "Ireland has 5 Comedies\n",
            "Ireland has 2 Crime TV Shows\n",
            "Ireland has 6 Documentaries\n",
            "Ireland has 12 Dramas\n",
            "Ireland has 1 Faith & Spirituality\n",
            "Ireland has 3 Horror Movies\n",
            "Ireland has 6 Independent Movies\n",
            "Ireland has 12 International Movies\n",
            "Ireland has 3 International TV Shows\n",
            "Ireland has 3 Kids' TV\n",
            "Ireland has 4 Romantic Movies\n",
            "Ireland has 2 Sports Movies\n",
            "Ireland has 1 TV Action & Adventure\n",
            "Ireland has 2 TV Comedies\n",
            "Ireland has 7 TV Dramas\n",
            "Ireland has 1 TV Horror\n",
            "Ireland has 1 TV Mysteries\n",
            "Ireland has 1 Thrillers\n",
            "Israel has 1 Action & Adventure\n",
            "Israel has 2 Comedies\n",
            "Israel has 4 Crime TV Shows\n",
            "Israel has 6 Documentaries\n",
            "Israel has 3 Docuseries\n",
            "Israel has 8 Dramas\n",
            "Israel has 1 Faith & Spirituality\n",
            "Israel has 2 Horror Movies\n",
            "Israel has 4 Independent Movies\n",
            "Israel has 13 International Movies\n",
            "Israel has 7 International TV Shows\n",
            "Israel has 1 Sci-Fi & Fantasy\n",
            "Israel has 1 Sports Movies\n",
            "Israel has 3 TV Action & Adventure\n",
            "Israel has 1 TV Comedies\n",
            "Israel has 3 TV Dramas\n",
            "Israel has 3 Thrillers\n",
            "Italy has 4 Action & Adventure\n",
            "Italy has 3 Children & Family Movies\n",
            "Italy has 5 Classic Movies\n",
            "Italy has 12 Comedies\n",
            "Italy has 5 Crime TV Shows\n",
            "Italy has 18 Documentaries\n",
            "Italy has 2 Docuseries\n",
            "Italy has 26 Dramas\n",
            "Italy has 1 Faith & Spirituality\n",
            "Italy has 2 Horror Movies\n",
            "Italy has 6 Independent Movies\n",
            "Italy has 49 International Movies\n",
            "Italy has 11 International TV Shows\n",
            "Italy has 10 Kids' TV\n",
            "Italy has 1 LGBTQ Movies\n",
            "Italy has 3 Music & Musicals\n",
            "Italy has 4 Romantic Movies\n",
            "Italy has 2 Romantic TV Shows\n",
            "Italy has 1 Sci-Fi & Fantasy\n",
            "Italy has 1 Spanish-Language TV Shows\n",
            "Italy has 3 Sports Movies\n",
            "Italy has 4 Stand-Up Comedy\n",
            "Italy has 2 TV Comedies\n",
            "Italy has 11 TV Dramas\n",
            "Italy has 1 TV Horror\n",
            "Italy has 1 Teen TV Shows\n",
            "Italy has 9 Thrillers\n",
            "Jamaica has 1 Dramas\n",
            "Jamaica has 1 International Movies\n",
            "Jamaica has 1 Sports Movies\n",
            "Japan has 47 Action & Adventure\n",
            "Japan has 56 Anime Features\n",
            "Japan has 132 Anime Series\n",
            "Japan has 17 Children & Family Movies\n",
            "Japan has 3 Classic Movies\n",
            "Japan has 8 Comedies\n",
            "Japan has 15 Crime TV Shows\n",
            "Japan has 1 Cult Movies\n",
            "Japan has 7 Documentaries\n",
            "Japan has 1 Docuseries\n",
            "Japan has 19 Dramas\n",
            "Japan has 3 Horror Movies\n",
            "Japan has 6 Independent Movies\n",
            "Japan has 61 International Movies\n",
            "Japan has 139 International TV Shows\n",
            "Japan has 27 Kids' TV\n",
            "Japan has 1 LGBTQ Movies\n",
            "Japan has 2 Movies\n",
            "Japan has 6 Music & Musicals\n",
            "Japan has 9 Reality TV\n",
            "Japan has 6 Romantic Movies\n",
            "Japan has 20 Romantic TV Shows\n",
            "Japan has 8 Sci-Fi & Fantasy\n",
            "Japan has 1 Sports Movies\n",
            "Japan has 1 Stand-Up Comedy & Talk Shows\n",
            "Japan has 5 TV Action & Adventure\n",
            "Japan has 8 TV Comedies\n",
            "Japan has 21 TV Dramas\n",
            "Japan has 4 TV Horror\n",
            "Japan has 4 TV Mysteries\n",
            "Japan has 1 TV Shows\n",
            "Japan has 4 TV Thrillers\n",
            "Japan has 14 Teen TV Shows\n",
            "Japan has 3 Thrillers\n",
            "Jordan has 2 Comedies\n",
            "Jordan has 1 Documentaries\n",
            "Jordan has 5 Dramas\n",
            "Jordan has 1 Horror Movies\n",
            "Jordan has 7 International Movies\n",
            "Jordan has 1 International TV Shows\n",
            "Jordan has 1 Sports Movies\n",
            "Jordan has 1 TV Dramas\n",
            "Jordan has 1 TV Mysteries\n",
            "Jordan has 2 Thrillers\n",
            "Kazakhstan has 1 Children & Family Movies\n",
            "Kenya has 1 Comedies\n",
            "Kenya has 1 Documentaries\n",
            "Kenya has 2 Dramas\n",
            "Kenya has 3 International Movies\n",
            "Kenya has 1 Romantic Movies\n",
            "Kenya has 2 Thrillers\n",
            "Kuwait has 1 Action & Adventure\n",
            "Kuwait has 3 Comedies\n",
            "Kuwait has 2 Dramas\n",
            "Kuwait has 4 International Movies\n",
            "Kuwait has 3 International TV Shows\n",
            "Kuwait has 1 Romantic TV Shows\n",
            "Kuwait has 1 Sci-Fi & Fantasy\n",
            "Kuwait has 3 TV Dramas\n",
            "Kuwait has 1 Thrillers\n",
            "Latvia has 1 Dramas\n",
            "Latvia has 1 International Movies\n",
            "Lebanon has 1 Children & Family Movies\n",
            "Lebanon has 1 Classic Movies\n",
            "Lebanon has 4 Comedies\n",
            "Lebanon has 2 Crime TV Shows\n",
            "Lebanon has 4 Documentaries\n",
            "Lebanon has 14 Dramas\n",
            "Lebanon has 2 Independent Movies\n",
            "Lebanon has 18 International Movies\n",
            "Lebanon has 7 International TV Shows\n",
            "Lebanon has 1 Music & Musicals\n",
            "Lebanon has 3 Romantic Movies\n",
            "Lebanon has 1 Romantic TV Shows\n",
            "Lebanon has 7 TV Dramas\n",
            "Lebanon has 1 TV Thrillers\n",
            "Liechtenstein has 1 Classic Movies\n",
            "Liechtenstein has 1 Dramas\n",
            "Liechtenstein has 1 Romantic Movies\n",
            "Lithuania has 1 Dramas\n",
            "Lithuania has 1 International Movies\n",
            "Luxembourg has 3 Action & Adventure\n",
            "Luxembourg has 3 Children & Family Movies\n",
            "Luxembourg has 8 Dramas\n",
            "Luxembourg has 2 Independent Movies\n",
            "Luxembourg has 6 International Movies\n",
            "Luxembourg has 1 Kids' TV\n",
            "Luxembourg has 1 Sci-Fi & Fantasy\n",
            "Luxembourg has 1 Thrillers\n",
            "Malawi has 1 Children & Family Movies\n",
            "Malawi has 1 Dramas\n",
            "Malawi has 1 Independent Movies\n",
            "Malaysia has 5 Action & Adventure\n",
            "Malaysia has 1 Children & Family Movies\n",
            "Malaysia has 7 Comedies\n",
            "Malaysia has 11 Dramas\n",
            "Malaysia has 4 Horror Movies\n",
            "Malaysia has 1 Independent Movies\n",
            "Malaysia has 17 International Movies\n",
            "Malaysia has 4 International TV Shows\n",
            "Malaysia has 4 Kids' TV\n",
            "Malaysia has 1 Korean TV Shows\n",
            "Malaysia has 2 Romantic Movies\n",
            "Malaysia has 1 Romantic TV Shows\n",
            "Malaysia has 2 TV Comedies\n",
            "Malaysia has 2 TV Dramas\n",
            "Malaysia has 1 TV Mysteries\n",
            "Malta has 1 Crime TV Shows\n",
            "Malta has 1 Dramas\n",
            "Malta has 1 Romantic Movies\n",
            "Malta has 1 TV Action & Adventure\n",
            "Malta has 1 TV Dramas\n",
            "Malta has 1 Thrillers\n",
            "Mauritius has 1 International TV Shows\n",
            "Mauritius has 1 TV Dramas\n",
            "Mexico has 7 Action & Adventure\n",
            "Mexico has 4 Children & Family Movies\n",
            "Mexico has 2 Classic & Cult TV\n",
            "Mexico has 1 Classic Movies\n",
            "Mexico has 23 Comedies\n",
            "Mexico has 29 Crime TV Shows\n",
            "Mexico has 18 Documentaries\n",
            "Mexico has 3 Docuseries\n",
            "Mexico has 39 Dramas\n",
            "Mexico has 6 Horror Movies\n",
            "Mexico has 20 Independent Movies\n",
            "Mexico has 65 International Movies\n",
            "Mexico has 39 International TV Shows\n",
            "Mexico has 4 Kids' TV\n",
            "Mexico has 1 LGBTQ Movies\n",
            "Mexico has 1 Movies\n",
            "Mexico has 3 Music & Musicals\n",
            "Mexico has 2 Reality TV\n",
            "Mexico has 7 Romantic Movies\n",
            "Mexico has 5 Romantic TV Shows\n",
            "Mexico has 4 Sci-Fi & Fantasy\n",
            "Mexico has 41 Spanish-Language TV Shows\n",
            "Mexico has 3 Sports Movies\n",
            "Mexico has 17 Stand-Up Comedy\n",
            "Mexico has 1 Stand-Up Comedy & Talk Shows\n",
            "Mexico has 6 TV Action & Adventure\n",
            "Mexico has 3 TV Comedies\n",
            "Mexico has 12 TV Dramas\n",
            "Mexico has 1 TV Sci-Fi & Fantasy\n",
            "Mexico has 2 Thrillers\n",
            "Mongolia has 1 Documentaries\n",
            "Mongolia has 1 International Movies\n",
            "Montenegro has 1 Dramas\n",
            "Montenegro has 1 International Movies\n",
            "Morocco has 1 Action & Adventure\n",
            "Morocco has 1 Documentaries\n",
            "Morocco has 4 Dramas\n",
            "Morocco has 2 Faith & Spirituality\n",
            "Morocco has 1 Independent Movies\n",
            "Morocco has 3 International Movies\n",
            "Namibia has 1 Documentaries\n",
            "Namibia has 1 Dramas\n",
            "Namibia has 2 International Movies\n",
            "Nepal has 1 Action & Adventure\n",
            "Nepal has 2 Comedies\n",
            "Nepal has 1 Dramas\n",
            "Nepal has 2 International Movies\n",
            "Netherlands has 1 Action & Adventure\n",
            "Netherlands has 1 British TV Shows\n",
            "Netherlands has 3 Children & Family Movies\n",
            "Netherlands has 6 Comedies\n",
            "Netherlands has 2 Crime TV Shows\n",
            "Netherlands has 10 Documentaries\n",
            "Netherlands has 17 Dramas\n",
            "Netherlands has 3 Independent Movies\n",
            "Netherlands has 33 International Movies\n",
            "Netherlands has 5 International TV Shows\n",
            "Netherlands has 3 Kids' TV\n",
            "Netherlands has 2 LGBTQ Movies\n",
            "Netherlands has 2 Music & Musicals\n",
            "Netherlands has 3 Romantic Movies\n",
            "Netherlands has 2 Sci-Fi & Fantasy\n",
            "Netherlands has 1 Sports Movies\n",
            "Netherlands has 1 Stand-Up Comedy\n",
            "Netherlands has 1 TV Action & Adventure\n",
            "Netherlands has 1 TV Comedies\n",
            "Netherlands has 3 TV Dramas\n",
            "Netherlands has 1 TV Horror\n",
            "Netherlands has 1 Thrillers\n",
            "New Zealand has 6 Action & Adventure\n",
            "New Zealand has 2 Children & Family Movies\n",
            "New Zealand has 2 Comedies\n",
            "New Zealand has 7 Documentaries\n",
            "New Zealand has 1 Docuseries\n",
            "New Zealand has 7 Dramas\n",
            "New Zealand has 2 Independent Movies\n",
            "New Zealand has 8 International Movies\n",
            "New Zealand has 2 International TV Shows\n",
            "New Zealand has 4 Kids' TV\n",
            "New Zealand has 1 Reality TV\n",
            "New Zealand has 3 Sci-Fi & Fantasy\n",
            "New Zealand has 3 Sports Movies\n",
            "New Zealand has 2 TV Action & Adventure\n",
            "New Zealand has 2 TV Dramas\n",
            "New Zealand has 3 TV Sci-Fi & Fantasy\n",
            "New Zealand has 1 TV Thrillers\n",
            "Nicaragua has 1 Documentaries\n",
            "Nigeria has 3 Action & Adventure\n",
            "Nigeria has 29 Comedies\n",
            "Nigeria has 1 Documentaries\n",
            "Nigeria has 44 Dramas\n",
            "Nigeria has 2 Horror Movies\n",
            "Nigeria has 6 Independent Movies\n",
            "Nigeria has 64 International Movies\n",
            "Nigeria has 8 International TV Shows\n",
            "Nigeria has 1 Music & Musicals\n",
            "Nigeria has 14 Romantic Movies\n",
            "Nigeria has 2 Romantic TV Shows\n",
            "Nigeria has 2 TV Comedies\n",
            "Nigeria has 6 TV Dramas\n",
            "Nigeria has 10 Thrillers\n",
            "Norway has 4 Action & Adventure\n",
            "Norway has 1 Children & Family Movies\n",
            "Norway has 2 Comedies\n",
            "Norway has 2 Crime TV Shows\n",
            "Norway has 3 Documentaries\n",
            "Norway has 1 Docuseries\n",
            "Norway has 12 Dramas\n",
            "Norway has 2 Horror Movies\n",
            "Norway has 2 Independent Movies\n",
            "Norway has 16 International Movies\n",
            "Norway has 8 International TV Shows\n",
            "Norway has 1 Romantic Movies\n",
            "Norway has 1 Romantic TV Shows\n",
            "Norway has 1 Science & Nature TV\n",
            "Norway has 1 TV Action & Adventure\n",
            "Norway has 3 TV Comedies\n",
            "Norway has 5 TV Dramas\n",
            "Norway has 1 TV Horror\n",
            "Norway has 1 TV Mysteries\n",
            "Norway has 2 TV Thrillers\n",
            "Norway has 4 Thrillers\n",
            "Pakistan has 2 Action & Adventure\n",
            "Pakistan has 1 Children & Family Movies\n",
            "Pakistan has 7 Comedies\n",
            "Pakistan has 1 Crime TV Shows\n",
            "Pakistan has 13 Dramas\n",
            "Pakistan has 1 Horror Movies\n",
            "Pakistan has 4 Independent Movies\n",
            "Pakistan has 19 International Movies\n",
            "Pakistan has 4 International TV Shows\n",
            "Pakistan has 3 Music & Musicals\n",
            "Pakistan has 4 Romantic Movies\n",
            "Pakistan has 4 Romantic TV Shows\n",
            "Pakistan has 3 TV Dramas\n",
            "Panama has 1 Documentaries\n",
            "Panama has 1 Sports Movies\n",
            "Paraguay has 1 Action & Adventure\n",
            "Paraguay has 1 International Movies\n",
            "Peru has 3 Comedies\n",
            "Peru has 4 Documentaries\n",
            "Peru has 2 Dramas\n",
            "Peru has 1 Horror Movies\n",
            "Peru has 10 International Movies\n",
            "Peru has 1 Romantic Movies\n",
            "Peru has 1 Sports Movies\n",
            "Philippines has 5 Action & Adventure\n",
            "Philippines has 1 Children & Family Movies\n",
            "Philippines has 27 Comedies\n",
            "Philippines has 1 Documentaries\n",
            "Philippines has 47 Dramas\n",
            "Philippines has 4 Horror Movies\n",
            "Philippines has 2 Independent Movies\n",
            "Philippines has 77 International Movies\n",
            "Philippines has 1 International TV Shows\n",
            "Philippines has 4 LGBTQ Movies\n",
            "Philippines has 1 Music & Musicals\n",
            "Philippines has 35 Romantic Movies\n",
            "Philippines has 1 Sports Movies\n",
            "Philippines has 1 TV Dramas\n",
            "Philippines has 2 Thrillers\n",
            "Poland has 2 Action & Adventure\n",
            "Poland has 2 Classic Movies\n",
            "Poland has 4 Comedies\n",
            "Poland has 6 Crime TV Shows\n",
            "Poland has 1 Cult Movies\n",
            "Poland has 1 Documentaries\n",
            "Poland has 1 Docuseries\n",
            "Poland has 23 Dramas\n",
            "Poland has 2 Horror Movies\n",
            "Poland has 4 Independent Movies\n",
            "Poland has 22 International Movies\n",
            "Poland has 7 International TV Shows\n",
            "Poland has 3 Romantic Movies\n",
            "Poland has 1 Sci-Fi & Fantasy\n",
            "Poland has 1 TV Action & Adventure\n",
            "Poland has 7 TV Dramas\n",
            "Poland has 1 TV Mysteries\n",
            "Poland has 6 Thrillers\n",
            "Portugal has 1 Comedies\n",
            "Portugal has 4 Dramas\n",
            "Portugal has 2 Independent Movies\n",
            "Portugal has 3 International Movies\n",
            "Portugal has 1 Romantic Movies\n",
            "Portugal has 1 Sports Movies\n",
            "Puerto Rico has 1 Crime TV Shows\n",
            "Puerto Rico has 1 International TV Shows\n",
            "Puerto Rico has 1 Spanish-Language TV Shows\n",
            "Qatar has 1 Children & Family Movies\n",
            "Qatar has 2 Comedies\n",
            "Qatar has 5 Dramas\n",
            "Qatar has 1 Horror Movies\n",
            "Qatar has 2 Independent Movies\n",
            "Qatar has 6 International Movies\n",
            "Qatar has 2 Thrillers\n",
            "Romania has 1 Children & Family Movies\n",
            "Romania has 4 Comedies\n",
            "Romania has 1 Documentaries\n",
            "Romania has 7 Dramas\n",
            "Romania has 11 International Movies\n",
            "Romania has 2 Music & Musicals\n",
            "Romania has 2 Romantic Movies\n",
            "Romania has 1 Sci-Fi & Fantasy\n",
            "Romania has 3 Thrillers\n",
            "Russia has 4 Action & Adventure\n",
            "Russia has 1 Children & Family Movies\n",
            "Russia has 6 Crime TV Shows\n",
            "Russia has 2 Documentaries\n",
            "Russia has 1 Docuseries\n",
            "Russia has 3 Dramas\n",
            "Russia has 1 Horror Movies\n",
            "Russia has 7 International Movies\n",
            "Russia has 10 International TV Shows\n",
            "Russia has 7 Kids' TV\n",
            "Russia has 1 Korean TV Shows\n",
            "Russia has 1 Romantic TV Shows\n",
            "Russia has 1 Sci-Fi & Fantasy\n",
            "Russia has 1 Science & Nature TV\n",
            "Russia has 1 Sports Movies\n",
            "Russia has 1 TV Action & Adventure\n",
            "Russia has 2 TV Comedies\n",
            "Russia has 7 TV Dramas\n",
            "Russia has 1 TV Mysteries\n",
            "Russia has 1 Thrillers\n",
            "Samoa has 1 Documentaries\n",
            "Samoa has 1 Sports Movies\n",
            "Saudi Arabia has 5 Comedies\n",
            "Saudi Arabia has 2 Dramas\n",
            "Saudi Arabia has 1 Independent Movies\n",
            "Saudi Arabia has 6 International Movies\n",
            "Saudi Arabia has 3 International TV Shows\n",
            "Saudi Arabia has 1 Romantic Movies\n",
            "Saudi Arabia has 1 Sports Movies\n",
            "Saudi Arabia has 1 TV Comedies\n",
            "Saudi Arabia has 2 TV Dramas\n",
            "Saudi Arabia has 1 TV Shows\n",
            "Senegal has 1 Crime TV Shows\n",
            "Senegal has 1 Documentaries\n",
            "Senegal has 1 Dramas\n",
            "Senegal has 1 Independent Movies\n",
            "Senegal has 1 International Movies\n",
            "Senegal has 1 International TV Shows\n",
            "Senegal has 1 TV Dramas\n",
            "Serbia has 2 Action & Adventure\n",
            "Serbia has 1 Documentaries\n",
            "Serbia has 3 Dramas\n",
            "Serbia has 1 Horror Movies\n",
            "Serbia has 1 Independent Movies\n",
            "Serbia has 3 International Movies\n",
            "Serbia has 2 Sci-Fi & Fantasy\n",
            "Serbia has 1 Thrillers\n",
            "Singapore has 5 Action & Adventure\n",
            "Singapore has 4 Crime TV Shows\n",
            "Singapore has 1 Cult Movies\n",
            "Singapore has 1 Documentaries\n",
            "Singapore has 7 Dramas\n",
            "Singapore has 3 Horror Movies\n",
            "Singapore has 1 Independent Movies\n",
            "Singapore has 14 International Movies\n",
            "Singapore has 19 International TV Shows\n",
            "Singapore has 2 Kids' TV\n",
            "Singapore has 1 Korean TV Shows\n",
            "Singapore has 2 Reality TV\n",
            "Singapore has 1 Romantic Movies\n",
            "Singapore has 5 Romantic TV Shows\n",
            "Singapore has 1 Sci-Fi & Fantasy\n",
            "Singapore has 1 Stand-Up Comedy\n",
            "Singapore has 2 TV Comedies\n",
            "Singapore has 15 TV Dramas\n",
            "Singapore has 1 TV Horror\n",
            "Singapore has 1 TV Sci-Fi & Fantasy\n",
            "Singapore has 3 Thrillers\n",
            "Slovakia has 1 Dramas\n",
            "Slovakia has 1 International Movies\n",
            "Slovenia has 1 Comedies\n",
            "Slovenia has 1 Dramas\n",
            "Slovenia has 1 Horror Movies\n",
            "Slovenia has 2 Independent Movies\n",
            "Slovenia has 2 International Movies\n",
            "Slovenia has 1 Sci-Fi & Fantasy\n",
            "Somalia has 1 Dramas\n",
            "South Africa has 11 Action & Adventure\n",
            "South Africa has 1 British TV Shows\n",
            "South Africa has 14 Comedies\n",
            "South Africa has 3 Crime TV Shows\n",
            "South Africa has 8 Documentaries\n",
            "South Africa has 1 Docuseries\n",
            "South Africa has 18 Dramas\n",
            "South Africa has 1 Faith & Spirituality\n",
            "South Africa has 2 Horror Movies\n",
            "South Africa has 3 Independent Movies\n",
            "South Africa has 34 International Movies\n",
            "South Africa has 8 International TV Shows\n",
            "South Africa has 3 Music & Musicals\n",
            "South Africa has 8 Romantic Movies\n",
            "South Africa has 1 Romantic TV Shows\n",
            "South Africa has 3 Sci-Fi & Fantasy\n",
            "South Africa has 1 Sports Movies\n",
            "South Africa has 1 TV Action & Adventure\n",
            "South Africa has 2 TV Comedies\n",
            "South Africa has 7 TV Dramas\n",
            "South Africa has 1 TV Mysteries\n",
            "South Africa has 2 Thrillers\n",
            "South Korea has 16 Action & Adventure\n",
            "South Korea has 9 Children & Family Movies\n",
            "South Korea has 16 Comedies\n",
            "South Korea has 23 Crime TV Shows\n",
            "South Korea has 1 Cult Movies\n",
            "South Korea has 2 Documentaries\n",
            "South Korea has 23 Dramas\n",
            "South Korea has 4 Horror Movies\n",
            "South Korea has 2 Independent Movies\n",
            "South Korea has 39 International Movies\n",
            "South Korea has 139 International TV Shows\n",
            "South Korea has 16 Kids' TV\n",
            "South Korea has 131 Korean TV Shows\n",
            "South Korea has 1 Movies\n",
            "South Korea has 1 Music & Musicals\n",
            "South Korea has 4 Reality TV\n",
            "South Korea has 1 Romantic Movies\n",
            "South Korea has 74 Romantic TV Shows\n",
            "South Korea has 5 Sci-Fi & Fantasy\n",
            "South Korea has 2 Stand-Up Comedy\n",
            "South Korea has 3 Stand-Up Comedy & Talk Shows\n",
            "South Korea has 7 TV Action & Adventure\n",
            "South Korea has 16 TV Comedies\n",
            "South Korea has 29 TV Dramas\n",
            "South Korea has 3 TV Horror\n",
            "South Korea has 3 TV Mysteries\n",
            "South Korea has 1 TV Thrillers\n",
            "South Korea has 13 Thrillers\n",
            "Soviet Union has 1 Action & Adventure\n",
            "Soviet Union has 2 Dramas\n",
            "Soviet Union has 3 International Movies\n",
            "Soviet Union has 1 Music & Musicals\n",
            "Soviet Union has 1 Romantic Movies\n",
            "Soviet Union has 1 Sci-Fi & Fantasy\n",
            "Spain has 5 Action & Adventure\n",
            "Spain has 1 Anime Series\n",
            "Spain has 4 British TV Shows\n",
            "Spain has 9 Children & Family Movies\n",
            "Spain has 1 Classic Movies\n",
            "Spain has 43 Comedies\n",
            "Spain has 27 Crime TV Shows\n",
            "Spain has 20 Documentaries\n",
            "Spain has 7 Docuseries\n",
            "Spain has 73 Dramas\n",
            "Spain has 3 Faith & Spirituality\n",
            "Spain has 11 Horror Movies\n",
            "Spain has 19 Independent Movies\n",
            "Spain has 130 International Movies\n",
            "Spain has 51 International TV Shows\n",
            "Spain has 4 Kids' TV\n",
            "Spain has 3 LGBTQ Movies\n",
            "Spain has 3 Movies\n",
            "Spain has 5 Music & Musicals\n",
            "Spain has 2 Reality TV\n",
            "Spain has 10 Romantic Movies\n",
            "Spain has 9 Romantic TV Shows\n",
            "Spain has 9 Sci-Fi & Fantasy\n",
            "Spain has 1 Science & Nature TV\n",
            "Spain has 39 Spanish-Language TV Shows\n",
            "Spain has 5 Sports Movies\n",
            "Spain has 3 TV Action & Adventure\n",
            "Spain has 5 TV Comedies\n",
            "Spain has 11 TV Dramas\n",
            "Spain has 1 Teen TV Shows\n",
            "Spain has 37 Thrillers\n",
            "Sri Lanka has 1 Documentaries\n",
            "Sri Lanka has 1 International Movies\n",
            "Sudan has 1 Dramas\n",
            "Sweden has 2 Action & Adventure\n",
            "Sweden has 4 Comedies\n",
            "Sweden has 4 Crime TV Shows\n",
            "Sweden has 1 Cult Movies\n",
            "Sweden has 10 Documentaries\n",
            "Sweden has 14 Dramas\n",
            "Sweden has 6 Independent Movies\n",
            "Sweden has 17 International Movies\n",
            "Sweden has 9 International TV Shows\n",
            "Sweden has 1 Kids' TV\n",
            "Sweden has 3 Music & Musicals\n",
            "Sweden has 1 Romantic Movies\n",
            "Sweden has 2 Romantic TV Shows\n",
            "Sweden has 1 Sports Movies\n",
            "Sweden has 1 Stand-Up Comedy\n",
            "Sweden has 3 TV Comedies\n",
            "Sweden has 6 TV Dramas\n",
            "Sweden has 1 TV Thrillers\n",
            "Sweden has 4 Thrillers\n",
            "Switzerland has 1 Action & Adventure\n",
            "Switzerland has 1 Children & Family Movies\n",
            "Switzerland has 3 Comedies\n",
            "Switzerland has 4 Documentaries\n",
            "Switzerland has 11 Dramas\n",
            "Switzerland has 1 Faith & Spirituality\n",
            "Switzerland has 3 Independent Movies\n",
            "Switzerland has 13 International Movies\n",
            "Switzerland has 1 International TV Shows\n",
            "Switzerland has 1 Sci-Fi & Fantasy\n",
            "Switzerland has 1 TV Comedies\n",
            "Switzerland has 1 TV Dramas\n",
            "Switzerland has 1 Thrillers\n",
            "Syria has 1 International TV Shows\n",
            "Syria has 1 TV Dramas\n",
            "Taiwan has 3 Action & Adventure\n",
            "Taiwan has 2 Comedies\n",
            "Taiwan has 5 Crime TV Shows\n",
            "Taiwan has 1 Documentaries\n",
            "Taiwan has 7 Dramas\n",
            "Taiwan has 3 Horror Movies\n",
            "Taiwan has 2 Independent Movies\n",
            "Taiwan has 14 International Movies\n",
            "Taiwan has 70 International TV Shows\n",
            "Taiwan has 1 LGBTQ Movies\n",
            "Taiwan has 2 Music & Musicals\n",
            "Taiwan has 1 Reality TV\n",
            "Taiwan has 2 Romantic Movies\n",
            "Taiwan has 48 Romantic TV Shows\n",
            "Taiwan has 1 Sports Movies\n",
            "Taiwan has 3 TV Action & Adventure\n",
            "Taiwan has 36 TV Comedies\n",
            "Taiwan has 29 TV Dramas\n",
            "Taiwan has 2 TV Horror\n",
            "Taiwan has 3 TV Mysteries\n",
            "Taiwan has 1 TV Sci-Fi & Fantasy\n",
            "Taiwan has 1 TV Thrillers\n",
            "Taiwan has 1 Teen TV Shows\n",
            "Taiwan has 2 Thrillers\n",
            "Thailand has 7 Action & Adventure\n",
            "Thailand has 1 Children & Family Movies\n",
            "Thailand has 12 Comedies\n",
            "Thailand has 5 Crime TV Shows\n",
            "Thailand has 5 Documentaries\n",
            "Thailand has 1 Docuseries\n",
            "Thailand has 7 Dramas\n",
            "Thailand has 3 Faith & Spirituality\n",
            "Thailand has 14 Horror Movies\n",
            "Thailand has 38 International Movies\n",
            "Thailand has 22 International TV Shows\n",
            "Thailand has 4 LGBTQ Movies\n",
            "Thailand has 4 Music & Musicals\n",
            "Thailand has 9 Romantic Movies\n",
            "Thailand has 8 Romantic TV Shows\n",
            "Thailand has 2 Sports Movies\n",
            "Thailand has 2 TV Action & Adventure\n",
            "Thailand has 2 TV Comedies\n",
            "Thailand has 16 TV Dramas\n",
            "Thailand has 1 TV Horror\n",
            "Thailand has 3 TV Mysteries\n",
            "Thailand has 1 TV Sci-Fi & Fantasy\n",
            "Thailand has 1 TV Thrillers\n",
            "Thailand has 3 Teen TV Shows\n",
            "Thailand has 1 Thrillers\n",
            "Turkey has 5 Action & Adventure\n",
            "Turkey has 2 Children & Family Movies\n",
            "Turkey has 58 Comedies\n",
            "Turkey has 10 Crime TV Shows\n",
            "Turkey has 27 Dramas\n",
            "Turkey has 4 Horror Movies\n",
            "Turkey has 3 Independent Movies\n",
            "Turkey has 77 International Movies\n",
            "Turkey has 28 International TV Shows\n",
            "Turkey has 1 Music & Musicals\n",
            "Turkey has 23 Romantic Movies\n",
            "Turkey has 6 Romantic TV Shows\n",
            "Turkey has 2 Sports Movies\n",
            "Turkey has 5 TV Action & Adventure\n",
            "Turkey has 3 TV Comedies\n",
            "Turkey has 23 TV Dramas\n",
            "Turkey has 1 TV Horror\n",
            "Turkey has 2 TV Mysteries\n",
            "Turkey has 2 TV Thrillers\n",
            "Turkey has 1 Teen TV Shows\n",
            "Turkey has 3 Thrillers\n",
            "Uganda has 1 Documentaries\n",
            "Ukraine has 1 Crime TV Shows\n",
            "Ukraine has 1 Documentaries\n",
            "Ukraine has 1 International Movies\n",
            "Ukraine has 2 International TV Shows\n",
            "Ukraine has 1 TV Comedies\n",
            "Ukraine has 1 TV Dramas\n",
            "United Arab Emirates has 3 Action & Adventure\n",
            "United Arab Emirates has 4 Children & Family Movies\n",
            "United Arab Emirates has 11 Comedies\n",
            "United Arab Emirates has 6 Documentaries\n",
            "United Arab Emirates has 18 Dramas\n",
            "United Arab Emirates has 2 Horror Movies\n",
            "United Arab Emirates has 2 Independent Movies\n",
            "United Arab Emirates has 23 International Movies\n",
            "United Arab Emirates has 1 International TV Shows\n",
            "United Arab Emirates has 1 Romantic Movies\n",
            "United Arab Emirates has 3 Sci-Fi & Fantasy\n",
            "United Arab Emirates has 3 Sports Movies\n",
            "United Arab Emirates has 1 TV Dramas\n",
            "United Arab Emirates has 4 Thrillers\n",
            "United Kingdom has 75 Action & Adventure\n",
            "United Kingdom has 212 British TV Shows\n",
            "United Kingdom has 40 Children & Family Movies\n",
            "United Kingdom has 7 Classic & Cult TV\n",
            "United Kingdom has 14 Classic Movies\n",
            "United Kingdom has 85 Comedies\n",
            "United Kingdom has 46 Crime TV Shows\n",
            "United Kingdom has 6 Cult Movies\n",
            "United Kingdom has 119 Documentaries\n",
            "United Kingdom has 88 Docuseries\n",
            "United Kingdom has 156 Dramas\n",
            "United Kingdom has 3 Faith & Spirituality\n",
            "United Kingdom has 26 Horror Movies\n",
            "United Kingdom has 62 Independent Movies\n",
            "United Kingdom has 149 International Movies\n",
            "United Kingdom has 116 International TV Shows\n",
            "United Kingdom has 35 Kids' TV\n",
            "United Kingdom has 6 LGBTQ Movies\n",
            "United Kingdom has 4 Movies\n",
            "United Kingdom has 31 Music & Musicals\n",
            "United Kingdom has 34 Reality TV\n",
            "United Kingdom has 31 Romantic Movies\n",
            "United Kingdom has 10 Romantic TV Shows\n",
            "United Kingdom has 31 Sci-Fi & Fantasy\n",
            "United Kingdom has 27 Science & Nature TV\n",
            "United Kingdom has 1 Spanish-Language TV Shows\n",
            "United Kingdom has 20 Sports Movies\n",
            "United Kingdom has 21 Stand-Up Comedy\n",
            "United Kingdom has 1 Stand-Up Comedy & Talk Shows\n",
            "United Kingdom has 8 TV Action & Adventure\n",
            "United Kingdom has 44 TV Comedies\n",
            "United Kingdom has 33 TV Dramas\n",
            "United Kingdom has 2 TV Horror\n",
            "United Kingdom has 3 TV Mysteries\n",
            "United Kingdom has 4 TV Sci-Fi & Fantasy\n",
            "United Kingdom has 2 TV Thrillers\n",
            "United Kingdom has 51 Thrillers\n",
            "United States has 315 Action & Adventure\n",
            "United States has 4 Anime Features\n",
            "United States has 15 Anime Series\n",
            "United States has 21 British TV Shows\n",
            "United States has 348 Children & Family Movies\n",
            "United States has 18 Classic & Cult TV\n",
            "United States has 69 Classic Movies\n",
            "United States has 588 Comedies\n",
            "United States has 138 Crime TV Shows\n",
            "United States has 42 Cult Movies\n",
            "United States has 478 Documentaries\n",
            "United States has 180 Docuseries\n",
            "United States has 716 Dramas\n",
            "United States has 36 Faith & Spirituality\n",
            "United States has 175 Horror Movies\n",
            "United States has 358 Independent Movies\n",
            "United States has 146 International Movies\n",
            "United States has 67 International TV Shows\n",
            "United States has 194 Kids' TV\n",
            "United States has 2 Korean TV Shows\n",
            "United States has 60 LGBTQ Movies\n",
            "United States has 24 Movies\n",
            "United States has 122 Music & Musicals\n",
            "United States has 111 Reality TV\n",
            "United States has 191 Romantic Movies\n",
            "United States has 39 Romantic TV Shows\n",
            "United States has 156 Sci-Fi & Fantasy\n",
            "United States has 45 Science & Nature TV\n",
            "United States has 27 Spanish-Language TV Shows\n",
            "United States has 104 Sports Movies\n",
            "United States has 212 Stand-Up Comedy\n",
            "United States has 33 Stand-Up Comedy & Talk Shows\n",
            "United States has 86 TV Action & Adventure\n",
            "United States has 238 TV Comedies\n",
            "United States has 221 TV Dramas\n",
            "United States has 34 TV Horror\n",
            "United States has 49 TV Mysteries\n",
            "United States has 54 TV Sci-Fi & Fantasy\n",
            "United States has 3 TV Shows\n",
            "United States has 26 TV Thrillers\n",
            "United States has 29 Teen TV Shows\n",
            "United States has 251 Thrillers\n",
            "Uruguay has 3 Comedies\n",
            "Uruguay has 7 Documentaries\n",
            "Uruguay has 1 Docuseries\n",
            "Uruguay has 6 Dramas\n",
            "Uruguay has 1 Independent Movies\n",
            "Uruguay has 12 International Movies\n",
            "Uruguay has 1 International TV Shows\n",
            "Uruguay has 1 Music & Musicals\n",
            "Uruguay has 1 Science & Nature TV\n",
            "Uruguay has 1 Sports Movies\n",
            "Vatican City has 1 Documentaries\n",
            "Vatican City has 1 Faith & Spirituality\n",
            "Vatican City has 1 International Movies\n",
            "Venezuela has 3 Documentaries\n",
            "Venezuela has 2 International Movies\n",
            "Vietnam has 2 Action & Adventure\n",
            "Vietnam has 2 Comedies\n",
            "Vietnam has 1 Documentaries\n",
            "Vietnam has 2 Dramas\n",
            "Vietnam has 1 Horror Movies\n",
            "Vietnam has 5 International Movies\n",
            "Vietnam has 1 Music & Musicals\n",
            "Vietnam has 1 Thrillers\n",
            "West Germany has 1 Children & Family Movies\n",
            "West Germany has 1 Classic Movies\n",
            "West Germany has 1 Comedies\n",
            "West Germany has 1 Documentaries\n",
            "West Germany has 1 Horror Movies\n",
            "West Germany has 2 International Movies\n",
            "West Germany has 1 International TV Shows\n",
            "West Germany has 1 TV Comedies\n",
            "West Germany has 1 TV Dramas\n",
            "West Germany has 1 Thrillers\n",
            "Zimbabwe has 1 Comedies\n",
            "Zimbabwe has 2 Documentaries\n",
            "Zimbabwe has 3 International Movies\n",
            "Zimbabwe has 1 Romantic Movies\n"
          ],
          "name": "stdout"
        }
      ]
    },
    {
      "cell_type": "markdown",
      "metadata": {
        "id": "xYTibBRt6e2K"
      },
      "source": [
        "**Ερώτημα 5:**\n",
        "Ετοιμάστε γραφήματα που δειχνουν τους ηθοποιούς με τις περισσότερες ταινίες σε\n",
        "κάθε χώρα. Κάντε το ίδιο και για τις σειρές."
      ]
    },
    {
      "cell_type": "code",
      "metadata": {
        "id": "Pkomw9S96n-J",
        "colab": {
          "base_uri": "https://localhost:8080/",
          "height": 484
        },
        "outputId": "3e102298-4704-43e1-b502-ad0fbb5e50e6"
      },
      "source": [
        "moviesPerActorPerCountry = df[['country','cast','show_id']].loc[df[\"type\"] == \"Movie\"].loc[df['country']!=\"\"].loc[df['cast']!=\"\"].replace(to_replace=r',$',value='',regex=True)\n",
        "moviesPerActorPerCountry = moviesPerActorPerCountry.assign(country=moviesPerActorPerCountry['country'].str.split(', ')).explode('country').assign(cast=moviesPerActorPerCountry['cast'].str.split(', ')).explode('cast').groupby(['country','cast'],as_index=False).count().rename(columns={'show_id':'Movies'})\n",
        "moviesPerActorPerCountry = moviesPerActorPerCountry.sort_values(by=['country','Movies'],ascending=[True,False]).groupby(['country']).head(10).reset_index(drop=True)\n",
        "\n",
        "tvShowsPerActorPerCountry = df[['country','cast','show_id']].loc[df[\"type\"] == \"TV Show\"].loc[df['country']!=\"\"].loc[df['cast']!=\"\"].replace(to_replace=r',$',value='',regex=True)\n",
        "tvShowsPerActorPerCountry = tvShowsPerActorPerCountry.assign(country=tvShowsPerActorPerCountry['country'].str.split(', ')).explode('country').assign(cast=tvShowsPerActorPerCountry['cast'].str.split(', ')).explode('cast').groupby(['country','cast'],as_index=False).count().rename(columns={'show_id':'TV Shows'})\n",
        "tvShowsPerActorPerCountry = tvShowsPerActorPerCountry.sort_values(by=['country','TV Shows'],ascending=[True,False]).groupby(['country']).head(10).reset_index(drop=True)\n",
        "\n",
        "# Αλλάξτε την παρακάτω μεταβλητή για να εμφανίσετε τα γραφήματα για τους top 10 ηθοποιούς ταινιών και σειρών για την αντίστοιχη χώρα\n",
        "queryCountry = 'United States'\n",
        "\n",
        "fig = plt.figure(figsize=(16,5))\n",
        "ax = plt.subplot(1,2,1)\n",
        "moviesPerActorPerCountry.loc[moviesPerActorPerCountry['country']==queryCountry].plot.bar(x='cast',y='Movies',ax=ax,title='Top 10 Movie actors in ' + queryCountry)\n",
        "ax = plt.subplot(1,2,2)\n",
        "tvShowsPerActorPerCountry.loc[tvShowsPerActorPerCountry['country']==queryCountry].plot.bar(x='cast',y='TV Shows',ax=ax,title='Top 10 TV Show actors in ' + queryCountry)"
      ],
      "execution_count": 8,
      "outputs": [
        {
          "output_type": "execute_result",
          "data": {
            "text/plain": [
              "<matplotlib.axes._subplots.AxesSubplot at 0x7fd9cbaa32d0>"
            ]
          },
          "metadata": {
            "tags": []
          },
          "execution_count": 8
        },
        {
          "output_type": "display_data",
          "data": {
            "image/png": "[encoded data removed]",
            "text/plain": [
              "<Figure size 1152x360 with 2 Axes>"
            ]
          },
          "metadata": {
            "tags": [],
            "needs_background": "light"
          }
        }
      ]
    },
    {
      "cell_type": "markdown",
      "metadata": {
        "id": "Ua4UsN7wGeG7"
      },
      "source": [
        "**Ερώτημα 6:**\n",
        "Το netflix υποστηρίζει ότι παρέχει πλούσιο περιεχόμενο για όλες τις ηλικίες.\n",
        "Αληθεύει αυτό; Φτιάξτε ένα γράφημα το οποίο συγκεντρώνει το πλήθος των\n",
        "ταινιων ανάλογα με την προτεινόμενη ηλικία (αναφερόμαστε στη στήλη rating). Τα\n",
        "όρια καθορίζονται σύμφωνα με τον παρακάτω πίνακα. Κάντε το ίδιο γράφημα και\n",
        "για τις σειρές. "
      ]
    },
    {
      "cell_type": "code",
      "metadata": {
        "colab": {
          "base_uri": "https://localhost:8080/",
          "height": 368
        },
        "id": "-RjZfhaLGia4",
        "outputId": "d18eba00-2367-4474-ba01-b07f5e942c78"
      },
      "source": [
        "contentPerRating = df[['show_id', 'type', 'rating']].loc[df['type']!=\"\"].loc[df['rating']!=\"\"].replace(['G', 'TV-Y', 'TV-G'], 'Little Kids').replace(['PG', 'TV-Y7', 'TV-Y7-FV', 'TV-PG'], 'Older Kids').replace(['PG-13', 'TV-14'], 'Teens').replace(['R', 'NC-17', 'TV-MA'], 'Mature').loc[df['rating']!='NR'].loc[df['rating']!='UR']\n",
        "\n",
        "fig = plt.figure(figsize=(12,10))\n",
        "\n",
        "moviesPerRating = contentPerRating[['rating','show_id']].loc[contentPerRating['type']==\"Movie\"].groupby('rating').count().rename(columns={'show_id':'count'})\n",
        "ax = plt.subplot(1,2,1)\n",
        "moviesPerRating.plot.pie(y='count',x='rating',ax=ax,title='Movies Per Rating',ylabel='')\n",
        "\n",
        "tvShowsPerRating = contentPerRating[['rating','show_id']].loc[contentPerRating['type']==\"TV Show\"].groupby('rating').count().rename(columns={'show_id':'count'})\n",
        "ax = plt.subplot(1,2,2)\n",
        "tvShowsPerRating.plot.pie(y='count',x='rating',ax=ax,title='TV Shows Per Rating',ylabel='')\n"
      ],
      "execution_count": 9,
      "outputs": [
        {
          "output_type": "execute_result",
          "data": {
            "text/plain": [
              "<matplotlib.axes._subplots.AxesSubplot at 0x7fd9cbdeca90>"
            ]
          },
          "metadata": {
            "tags": []
          },
          "execution_count": 9
        },
        {
          "output_type": "display_data",
          "data": {
            "image/png": "[encoded data removed]",
            "text/plain": [
              "<Figure size 864x720 with 2 Axes>"
            ]
          },
          "metadata": {
            "tags": []
          }
        }
      ]
    },
    {
      "cell_type": "markdown",
      "metadata": {
        "id": "2AQaMgIbPqfc"
      },
      "source": [
        "**Ερώτημα 7:**\n",
        "Αν ένας παραγωγός ήθελε να έχει υψηλή ακροαματικότητα, σκέφτεται ότι θα ήταν\n",
        "ίσως καλύτερα να βγάλει την ταινία του σε μία εποχή που δεν υπάρχει\n",
        "ανταγωνισμός. Κάντε ένα γράφημα με το περιεχόμενο που προστίθεται ανά μήνα\n",
        "για να τον βοηθήσετε να επιλέξει τη σωστή χρονική περίοδο."
      ]
    },
    {
      "cell_type": "code",
      "metadata": {
        "colab": {
          "base_uri": "https://localhost:8080/",
          "height": 341
        },
        "id": "g9n50h9uPpcq",
        "outputId": "dcb9e1d7-b5d0-4bd1-fb7b-5c96cac547c4"
      },
      "source": [
        "contentPerMonth = df[['show_id']].loc[df['date_added']!=''].groupby(df[\"date_added\"].map(lambda x: x.strip().split(' ')[0])).count().reset_index().rename(columns={'date_added':'month','show_id':'content'}).sort_values(by='content')\n",
        "contentPerMonth.plot.bar(x='month',y='content')\n",
        "print('Best month to release new content: ' + contentPerMonth.values[0][0])"
      ],
      "execution_count": 10,
      "outputs": [
        {
          "output_type": "stream",
          "text": [
            "Best month to release new content: February\n"
          ],
          "name": "stdout"
        },
        {
          "output_type": "display_data",
          "data": {
            "image/png": "[encoded data removed]",
            "text/plain": [
              "<Figure size 432x288 with 1 Axes>"
            ]
          },
          "metadata": {
            "tags": [],
            "needs_background": "light"
          }
        }
      ]
    },
    {
      "cell_type": "markdown",
      "metadata": {
        "id": "Pp_xV12spqtX"
      },
      "source": [
        "**Ερώτημα 8:**\n",
        "Ετοιμάστε ένα γράφημα που παρουσιάζει συγκεντρωτικά τα είδη του περιεχομένου\n",
        "(αναφερόμαστε στη στήλη listed_in)."
      ]
    },
    {
      "cell_type": "code",
      "metadata": {
        "colab": {
          "base_uri": "https://localhost:8080/",
          "height": 554
        },
        "id": "wSv_iZWmpyb2",
        "outputId": "eea8af70-dc3f-4230-9942-c028c833836b"
      },
      "source": [
        "genres = df[['listed_in','show_id']].loc[df['listed_in']!=\"\"].replace(to_replace=r',$',value='',regex=True)\n",
        "genres = genres.assign(listed_in=genres['listed_in'].str.split(', ')).explode('listed_in').groupby('listed_in',as_index=False).count().rename(columns={'listed_in':'genre','show_id':'count'})\n",
        "genres.plot.bar(x='genre',y='count',rot=90, figsize = (16, 6))"
      ],
      "execution_count": 11,
      "outputs": [
        {
          "output_type": "execute_result",
          "data": {
            "text/plain": [
              "<matplotlib.axes._subplots.AxesSubplot at 0x7fd9cbd91dd0>"
            ]
          },
          "metadata": {
            "tags": []
          },
          "execution_count": 11
        },
        {
          "output_type": "display_data",
          "data": {
            "image/png": "[encoded data removed]",
            "text/plain": [
              "<Figure size 1152x432 with 1 Axes>"
            ]
          },
          "metadata": {
            "tags": [],
            "needs_background": "light"
          }
        }
      ]
    },
    {
      "cell_type": "markdown",
      "metadata": {
        "id": "jNh028Aqr1I2"
      },
      "source": [
        "**Ερώτημα 9:**\n",
        "Μελετηστε τους σκηνοθέτες ανά χώρα και παρουσιάστε σχετικά γραφήματα."
      ]
    },
    {
      "cell_type": "code",
      "metadata": {
        "colab": {
          "base_uri": "https://localhost:8080/",
          "height": 393
        },
        "id": "NhIC1A9mr0HX",
        "outputId": "b9164a34-5dd0-44c7-8fbb-46b3ecf09771"
      },
      "source": [
        "directorsPerCountry = df[['country','director','show_id']].loc[df['country']!=\"\"].loc[df['director']!=\"\"].replace(to_replace=r',$',value='',regex=True)\n",
        "directorsPerCountry = directorsPerCountry.assign(country=directorsPerCountry['country'].str.split(',')).explode('country').assign(director=directorsPerCountry['director'].str.split(',')).explode('director').groupby(['country','director'],as_index=False).count().rename(columns={'show_id':'count'})\n",
        "directorsPerCountry = directorsPerCountry.sort_values(by=['country','count'],ascending=[True,False]).groupby(['country']).head(10).reset_index(drop=True)\n",
        "directorsPerCountry\n",
        "\n",
        "# Αλλάξτε την παρακάτω μεταβλητή για να εμφανίσετε τα γραφήματα για τους top 10 σκηνοθέτες για την αντίστοιχη χώρα\n",
        "queryCountry = 'United States'\n",
        "\n",
        "directorsPerCountry.loc[directorsPerCountry['country']==queryCountry].plot.bar(x='director',y='count',title='Top 10 Directors in ' + queryCountry)"
      ],
      "execution_count": 12,
      "outputs": [
        {
          "output_type": "execute_result",
          "data": {
            "text/plain": [
              "<matplotlib.axes._subplots.AxesSubplot at 0x7fd9ccbe9850>"
            ]
          },
          "metadata": {
            "tags": []
          },
          "execution_count": 12
        },
        {
          "output_type": "display_data",
          "data": {
            "image/png": "[encoded data removed]",
            "text/plain": [
              "<Figure size 432x288 with 1 Axes>"
            ]
          },
          "metadata": {
            "tags": [],
            "needs_background": "light"
          }
        }
      ]
    },
    {
      "cell_type": "markdown",
      "metadata": {
        "id": "W9ghsIqSvefg"
      },
      "source": [
        "**Ερώτημα 10:**\n",
        "Μελετήστε τις σειρές και παρουσιάστε ένα γράφημα που τις δείχνει ανάλογα με το\n",
        "αριθμό των seasons."
      ]
    },
    {
      "cell_type": "code",
      "metadata": {
        "colab": {
          "base_uri": "https://localhost:8080/",
          "height": 296
        },
        "id": "JekPhbf3vjeV",
        "outputId": "671abe2c-76d6-4923-f162-0d158d7a7a35"
      },
      "source": [
        "seriesBySeasons = df[['show_id']].loc[df['type']=='TV Show'].groupby(df['duration'].map(lambda x : int(x.split()[0]))).count().reset_index().rename(columns={'duration':'seasons','show_id':'TV Shows'})\n",
        "seriesBySeasons.plot.bar(x='seasons',y='TV Shows',rot=0)"
      ],
      "execution_count": 13,
      "outputs": [
        {
          "output_type": "execute_result",
          "data": {
            "text/plain": [
              "<matplotlib.axes._subplots.AxesSubplot at 0x7fd9cbbfbc50>"
            ]
          },
          "metadata": {
            "tags": []
          },
          "execution_count": 13
        },
        {
          "output_type": "display_data",
          "data": {
            "image/png": "[encoded data removed]",
            "text/plain": [
              "<Figure size 432x288 with 1 Axes>"
            ]
          },
          "metadata": {
            "tags": [],
            "needs_background": "light"
          }
        }
      ]
    },
    {
      "cell_type": "markdown",
      "metadata": {
        "id": "kQBFlGlnXzIw"
      },
      "source": [
        "**Ερώτημα 11:**\n",
        "Αξιοποιήστε τα υπόλοιπα αρχεία της εργασίας για να απαντήσετε στο ερώτημα:\n",
        "Ποιές είναι οι ταινίες με την πιο υψηλή βαθμολογία; Θα χρειαστεί να συννενώσετε\n",
        "κατάλληλα τα αρχεία που σας δίνονται ώστε να κρατήσετε τις ταινίες του netflix για\n",
        "τις οποίες υπάρχουν ratings στο IMBD."
      ]
    },
    {
      "cell_type": "code",
      "metadata": {
        "colab": {
          "base_uri": "https://localhost:8080/",
          "height": 545
        },
        "id": "RJpGulQtX2rM",
        "outputId": "24c859e7-bace-422b-c658-d29864c2efe6"
      },
      "source": [
        "imdbRatings = pd.read_csv('IMDb ratings.csv')[['imdb_title_id','weighted_average_vote']]\n",
        "imdbMovies = pd.read_csv('IMDb movies.csv')[['imdb_title_id','original_title']]\n",
        "imdbMoviesWithRatings = pd.merge(imdbMovies, imdbRatings, on='imdb_title_id', how='inner').rename(columns={'original_title':'title', 'weighted_average_vote':'rating'})\n",
        "netflixMoviesWithRatings = pd.merge(df[['title']], imdbMoviesWithRatings, on='title', how='inner')[['title','rating']].sort_values(by='rating',ascending=False)\n",
        "netflixMoviesWithRatings.head(10).plot.bar(x='title',y='rating')"
      ],
      "execution_count": 14,
      "outputs": [
        {
          "output_type": "stream",
          "text": [
            "/usr/local/lib/python3.7/dist-packages/IPython/core/interactiveshell.py:2718: DtypeWarning: Columns (3) have mixed types.Specify dtype option on import or set low_memory=False.\n",
            "  interactivity=interactivity, compiler=compiler, result=result)\n"
          ],
          "name": "stderr"
        },
        {
          "output_type": "execute_result",
          "data": {
            "text/plain": [
              "<matplotlib.axes._subplots.AxesSubplot at 0x7fd9c8fe7410>"
            ]
          },
          "metadata": {
            "tags": []
          },
          "execution_count": 14
        },
        {
          "output_type": "display_data",
          "data": {
            "image/png": "[encoded data removed]",
            "text/plain": [
              "<Figure size 432x288 with 1 Axes>"
            ]
          },
          "metadata": {
            "tags": [],
            "needs_background": "light"
          }
        }
      ]
    },
    {
      "cell_type": "markdown",
      "metadata": {
        "id": "WBSpwPqZzEL8"
      },
      "source": [
        "# Part 2: Recommendation system "
      ]
    },
    {
      "cell_type": "code",
      "metadata": {
        "id": "rQZmpA3IzHti",
        "colab": {
          "base_uri": "https://localhost:8080/",
          "height": 521
        },
        "outputId": "4a6ba322-9140-4345-d6ef-bbed28df09b4"
      },
      "source": [
        "netflixMovies = df[['show_id','title','description']]\n",
        "netflixMovies['title_description'] = netflixMovies[netflixMovies.columns[1:]].apply(lambda x : ' '.join(x.dropna().astype(str)), axis=1)\n",
        "netflixMovies"
      ],
      "execution_count": 15,
      "outputs": [
        {
          "output_type": "stream",
          "text": [
            "/usr/local/lib/python3.7/dist-packages/ipykernel_launcher.py:2: SettingWithCopyWarning: \n",
            "A value is trying to be set on a copy of a slice from a DataFrame.\n",
            "Try using .loc[row_indexer,col_indexer] = value instead\n",
            "\n",
            "See the caveats in the documentation: https://pandas.pydata.org/pandas-docs/stable/user_guide/indexing.html#returning-a-view-versus-a-copy\n",
            "  \n"
          ],
          "name": "stderr"
        },
        {
          "output_type": "execute_result",
          "data": {
            "text/html": [
              "<div>\n",
              "<style scoped>\n",
              "    .dataframe tbody tr th:only-of-type {\n",
              "        vertical-align: middle;\n",
              "    }\n",
              "\n",
              "    .dataframe tbody tr th {\n",
              "        vertical-align: top;\n",
              "    }\n",
              "\n",
              "    .dataframe thead th {\n",
              "        text-align: right;\n",
              "    }\n",
              "</style>\n",
              "<table border=\"1\" class=\"dataframe\">\n",
              "  <thead>\n",
              "    <tr style=\"text-align: right;\">\n",
              "      <th></th>\n",
              "      <th>show_id</th>\n",
              "      <th>title</th>\n",
              "      <th>description</th>\n",
              "      <th>title_description</th>\n",
              "    </tr>\n",
              "  </thead>\n",
              "  <tbody>\n",
              "    <tr>\n",
              "      <th>0</th>\n",
              "      <td>s1</td>\n",
              "      <td>3%</td>\n",
              "      <td>In a future where the elite inhabit an island ...</td>\n",
              "      <td>3% In a future where the elite inhabit an isla...</td>\n",
              "    </tr>\n",
              "    <tr>\n",
              "      <th>1</th>\n",
              "      <td>s2</td>\n",
              "      <td>7:19</td>\n",
              "      <td>After a devastating earthquake hits Mexico Cit...</td>\n",
              "      <td>7:19 After a devastating earthquake hits Mexic...</td>\n",
              "    </tr>\n",
              "    <tr>\n",
              "      <th>2</th>\n",
              "      <td>s3</td>\n",
              "      <td>23:59</td>\n",
              "      <td>When an army recruit is found dead, his fellow...</td>\n",
              "      <td>23:59 When an army recruit is found dead, his ...</td>\n",
              "    </tr>\n",
              "    <tr>\n",
              "      <th>3</th>\n",
              "      <td>s4</td>\n",
              "      <td>9</td>\n",
              "      <td>In a postapocalyptic world, rag-doll robots hi...</td>\n",
              "      <td>9 In a postapocalyptic world, rag-doll robots ...</td>\n",
              "    </tr>\n",
              "    <tr>\n",
              "      <th>4</th>\n",
              "      <td>s5</td>\n",
              "      <td>21</td>\n",
              "      <td>A brilliant group of students become card-coun...</td>\n",
              "      <td>21 A brilliant group of students become card-c...</td>\n",
              "    </tr>\n",
              "    <tr>\n",
              "      <th>...</th>\n",
              "      <td>...</td>\n",
              "      <td>...</td>\n",
              "      <td>...</td>\n",
              "      <td>...</td>\n",
              "    </tr>\n",
              "    <tr>\n",
              "      <th>7782</th>\n",
              "      <td>s7783</td>\n",
              "      <td>Zozo</td>\n",
              "      <td>When Lebanon's Civil War deprives Zozo of his ...</td>\n",
              "      <td>Zozo When Lebanon's Civil War deprives Zozo of...</td>\n",
              "    </tr>\n",
              "    <tr>\n",
              "      <th>7783</th>\n",
              "      <td>s7784</td>\n",
              "      <td>Zubaan</td>\n",
              "      <td>A scrappy but poor boy worms his way into a ty...</td>\n",
              "      <td>Zubaan A scrappy but poor boy worms his way in...</td>\n",
              "    </tr>\n",
              "    <tr>\n",
              "      <th>7784</th>\n",
              "      <td>s7785</td>\n",
              "      <td>Zulu Man in Japan</td>\n",
              "      <td>In this documentary, South African rapper Nast...</td>\n",
              "      <td>Zulu Man in Japan In this documentary, South A...</td>\n",
              "    </tr>\n",
              "    <tr>\n",
              "      <th>7785</th>\n",
              "      <td>s7786</td>\n",
              "      <td>Zumbo's Just Desserts</td>\n",
              "      <td>Dessert wizard Adriano Zumbo looks for the nex...</td>\n",
              "      <td>Zumbo's Just Desserts Dessert wizard Adriano Z...</td>\n",
              "    </tr>\n",
              "    <tr>\n",
              "      <th>7786</th>\n",
              "      <td>s7787</td>\n",
              "      <td>ZZ TOP: THAT LITTLE OL' BAND FROM TEXAS</td>\n",
              "      <td>This documentary delves into the mystique behi...</td>\n",
              "      <td>ZZ TOP: THAT LITTLE OL' BAND FROM TEXAS This d...</td>\n",
              "    </tr>\n",
              "  </tbody>\n",
              "</table>\n",
              "<p>7787 rows × 4 columns</p>\n",
              "</div>"
            ],
            "text/plain": [
              "     show_id  ...                                  title_description\n",
              "0         s1  ...  3% In a future where the elite inhabit an isla...\n",
              "1         s2  ...  7:19 After a devastating earthquake hits Mexic...\n",
              "2         s3  ...  23:59 When an army recruit is found dead, his ...\n",
              "3         s4  ...  9 In a postapocalyptic world, rag-doll robots ...\n",
              "4         s5  ...  21 A brilliant group of students become card-c...\n",
              "...      ...  ...                                                ...\n",
              "7782   s7783  ...  Zozo When Lebanon's Civil War deprives Zozo of...\n",
              "7783   s7784  ...  Zubaan A scrappy but poor boy worms his way in...\n",
              "7784   s7785  ...  Zulu Man in Japan In this documentary, South A...\n",
              "7785   s7786  ...  Zumbo's Just Desserts Dessert wizard Adriano Z...\n",
              "7786   s7787  ...  ZZ TOP: THAT LITTLE OL' BAND FROM TEXAS This d...\n",
              "\n",
              "[7787 rows x 4 columns]"
            ]
          },
          "metadata": {
            "tags": []
          },
          "execution_count": 15
        }
      ]
    },
    {
      "cell_type": "markdown",
      "metadata": {
        "id": "KO9VV9wBMBvr"
      },
      "source": [
        "Αρχικοποίηση spaCy για να κάνουμε αφαίρεση stopwords lemmatization:"
      ]
    },
    {
      "cell_type": "code",
      "metadata": {
        "id": "NtqgL6MlMBdU",
        "colab": {
          "base_uri": "https://localhost:8080/"
        },
        "outputId": "22fa665d-62e0-494f-c267-f6b6aec1b5e0"
      },
      "source": [
        "!pip install -U pip setuptools wheel\n",
        "!pip install -U spacy\n",
        "!python -m spacy download en_core_web_sm\n",
        "\n",
        "import spacy\n",
        "nlp = spacy.load('en_core_web_sm')"
      ],
      "execution_count": 16,
      "outputs": [
        {
          "output_type": "stream",
          "text": [
            "Collecting pip\n",
            "\u001b[?25l  Downloading https://files.pythonhosted.org/packages/fe/ef/60d7ba03b5c442309ef42e7d69959f73aacccd0d86008362a681c4698e83/pip-21.0.1-py3-none-any.whl (1.5MB)\n",
            "\u001b[K     |████████████████████████████████| 1.5MB 8.1MB/s \n",
            "\u001b[?25hRequirement already up-to-date: setuptools in /usr/local/lib/python3.7/dist-packages (56.0.0)\n",
            "Requirement already up-to-date: wheel in /usr/local/lib/python3.7/dist-packages (0.36.2)\n",
            "Installing collected packages: pip\n",
            "  Found existing installation: pip 19.3.1\n",
            "    Uninstalling pip-19.3.1:\n",
            "      Successfully uninstalled pip-19.3.1\n",
            "Successfully installed pip-21.0.1\n",
            "Requirement already satisfied: spacy in /usr/local/lib/python3.7/dist-packages (2.2.4)\n",
            "Collecting spacy\n",
            "  Downloading spacy-3.0.6-cp37-cp37m-manylinux2014_x86_64.whl (12.8 MB)\n",
            "\u001b[K     |████████████████████████████████| 12.8 MB 88 kB/s \n",
            "\u001b[?25hCollecting catalogue<2.1.0,>=2.0.3\n",
            "  Downloading catalogue-2.0.3-py3-none-any.whl (16 kB)\n",
            "Collecting srsly<3.0.0,>=2.4.1\n",
            "  Downloading srsly-2.4.1-cp37-cp37m-manylinux2014_x86_64.whl (456 kB)\n",
            "\u001b[K     |████████████████████████████████| 456 kB 67.3 MB/s \n",
            "\u001b[?25hRequirement already satisfied: typing-extensions<4.0.0.0,>=3.7.4 in /usr/local/lib/python3.7/dist-packages (from spacy) (3.7.4.3)\n",
            "Requirement already satisfied: tqdm<5.0.0,>=4.38.0 in /usr/local/lib/python3.7/dist-packages (from spacy) (4.41.1)\n",
            "Collecting pydantic<1.8.0,>=1.7.1\n",
            "  Downloading pydantic-1.7.3-cp37-cp37m-manylinux2014_x86_64.whl (9.1 MB)\n",
            "\u001b[K     |████████████████████████████████| 9.1 MB 47.7 MB/s \n",
            "\u001b[?25hRequirement already satisfied: packaging>=20.0 in /usr/local/lib/python3.7/dist-packages (from spacy) (20.9)\n",
            "Requirement already satisfied: preshed<3.1.0,>=3.0.2 in /usr/local/lib/python3.7/dist-packages (from spacy) (3.0.5)\n",
            "Requirement already satisfied: cymem<2.1.0,>=2.0.2 in /usr/local/lib/python3.7/dist-packages (from spacy) (2.0.5)\n",
            "Requirement already satisfied: requests<3.0.0,>=2.13.0 in /usr/local/lib/python3.7/dist-packages (from spacy) (2.23.0)\n",
            "Requirement already satisfied: setuptools in /usr/local/lib/python3.7/dist-packages (from spacy) (56.0.0)\n",
            "Collecting pathy>=0.3.5\n",
            "  Downloading pathy-0.5.0-py3-none-any.whl (38 kB)\n",
            "Collecting thinc<8.1.0,>=8.0.3\n",
            "  Downloading thinc-8.0.3-cp37-cp37m-manylinux2014_x86_64.whl (1.1 MB)\n",
            "\u001b[K     |████████████████████████████████| 1.1 MB 72.1 MB/s \n",
            "\u001b[?25hCollecting spacy-legacy<3.1.0,>=3.0.4\n",
            "  Downloading spacy_legacy-3.0.4-py2.py3-none-any.whl (12 kB)\n",
            "Requirement already satisfied: jinja2 in /usr/local/lib/python3.7/dist-packages (from spacy) (2.11.3)\n",
            "Requirement already satisfied: murmurhash<1.1.0,>=0.28.0 in /usr/local/lib/python3.7/dist-packages (from spacy) (1.0.5)\n",
            "Requirement already satisfied: blis<0.8.0,>=0.4.0 in /usr/local/lib/python3.7/dist-packages (from spacy) (0.4.1)\n",
            "Requirement already satisfied: wasabi<1.1.0,>=0.8.1 in /usr/local/lib/python3.7/dist-packages (from spacy) (0.8.2)\n",
            "Collecting typer<0.4.0,>=0.3.0\n",
            "  Downloading typer-0.3.2-py3-none-any.whl (21 kB)\n",
            "Requirement already satisfied: numpy>=1.15.0 in /usr/local/lib/python3.7/dist-packages (from spacy) (1.19.5)\n",
            "Requirement already satisfied: zipp>=0.5 in /usr/local/lib/python3.7/dist-packages (from catalogue<2.1.0,>=2.0.3->spacy) (3.4.1)\n",
            "Requirement already satisfied: pyparsing>=2.0.2 in /usr/local/lib/python3.7/dist-packages (from packaging>=20.0->spacy) (2.4.7)\n",
            "Collecting smart-open<4.0.0,>=2.2.0\n",
            "  Downloading smart_open-3.0.0.tar.gz (113 kB)\n",
            "\u001b[K     |████████████████████████████████| 113 kB 48.4 MB/s \n",
            "\u001b[?25hRequirement already satisfied: certifi>=2017.4.17 in /usr/local/lib/python3.7/dist-packages (from requests<3.0.0,>=2.13.0->spacy) (2020.12.5)\n",
            "Requirement already satisfied: chardet<4,>=3.0.2 in /usr/local/lib/python3.7/dist-packages (from requests<3.0.0,>=2.13.0->spacy) (3.0.4)\n",
            "Requirement already satisfied: idna<3,>=2.5 in /usr/local/lib/python3.7/dist-packages (from requests<3.0.0,>=2.13.0->spacy) (2.10)\n",
            "Requirement already satisfied: urllib3!=1.25.0,!=1.25.1,<1.26,>=1.21.1 in /usr/local/lib/python3.7/dist-packages (from requests<3.0.0,>=2.13.0->spacy) (1.24.3)\n",
            "Requirement already satisfied: click<7.2.0,>=7.1.1 in /usr/local/lib/python3.7/dist-packages (from typer<0.4.0,>=0.3.0->spacy) (7.1.2)\n",
            "Requirement already satisfied: MarkupSafe>=0.23 in /usr/local/lib/python3.7/dist-packages (from jinja2->spacy) (1.1.1)\n",
            "Building wheels for collected packages: smart-open\n",
            "  Building wheel for smart-open (setup.py) ... \u001b[?25l\u001b[?25hdone\n",
            "  Created wheel for smart-open: filename=smart_open-3.0.0-py3-none-any.whl size=107097 sha256=f34ed4b54e7f5ef831f6d239eada49bb755ea098da2b1d2b1af6ddbfaa3905d4\n",
            "  Stored in directory: /root/.cache/pip/wheels/83/a6/12/bf3c1a667bde4251be5b7a3368b2d604c9af2105b5c1cb1870\n",
            "Successfully built smart-open\n",
            "Installing collected packages: catalogue, typer, srsly, smart-open, pydantic, thinc, spacy-legacy, pathy, spacy\n",
            "  Attempting uninstall: catalogue\n",
            "    Found existing installation: catalogue 1.0.0\n",
            "    Uninstalling catalogue-1.0.0:\n",
            "      Successfully uninstalled catalogue-1.0.0\n",
            "  Attempting uninstall: srsly\n",
            "    Found existing installation: srsly 1.0.5\n",
            "    Uninstalling srsly-1.0.5:\n",
            "      Successfully uninstalled srsly-1.0.5\n",
            "  Attempting uninstall: smart-open\n",
            "    Found existing installation: smart-open 5.0.0\n",
            "    Uninstalling smart-open-5.0.0:\n",
            "      Successfully uninstalled smart-open-5.0.0\n",
            "  Attempting uninstall: thinc\n",
            "    Found existing installation: thinc 7.4.0\n",
            "    Uninstalling thinc-7.4.0:\n",
            "      Successfully uninstalled thinc-7.4.0\n",
            "  Attempting uninstall: spacy\n",
            "    Found existing installation: spacy 2.2.4\n",
            "    Uninstalling spacy-2.2.4:\n",
            "      Successfully uninstalled spacy-2.2.4\n",
            "Successfully installed catalogue-2.0.3 pathy-0.5.0 pydantic-1.7.3 smart-open-3.0.0 spacy-3.0.6 spacy-legacy-3.0.4 srsly-2.4.1 thinc-8.0.3 typer-0.3.2\n",
            "2021-04-23 14:41:33.297093: I tensorflow/stream_executor/platform/default/dso_loader.cc:49] Successfully opened dynamic library libcudart.so.11.0\n",
            "Collecting en-core-web-sm==3.0.0\n",
            "  Downloading https://github.com/explosion/spacy-models/releases/download/en_core_web_sm-3.0.0/en_core_web_sm-3.0.0-py3-none-any.whl (13.7 MB)\n",
            "\u001b[K     |████████████████████████████████| 13.7 MB 101 kB/s \n",
            "\u001b[?25hRequirement already satisfied: spacy<3.1.0,>=3.0.0 in /usr/local/lib/python3.7/dist-packages (from en-core-web-sm==3.0.0) (3.0.6)\n",
            "Requirement already satisfied: srsly<3.0.0,>=2.4.1 in /usr/local/lib/python3.7/dist-packages (from spacy<3.1.0,>=3.0.0->en-core-web-sm==3.0.0) (2.4.1)\n",
            "Requirement already satisfied: spacy-legacy<3.1.0,>=3.0.4 in /usr/local/lib/python3.7/dist-packages (from spacy<3.1.0,>=3.0.0->en-core-web-sm==3.0.0) (3.0.4)\n",
            "Requirement already satisfied: jinja2 in /usr/local/lib/python3.7/dist-packages (from spacy<3.1.0,>=3.0.0->en-core-web-sm==3.0.0) (2.11.3)\n",
            "Requirement already satisfied: typer<0.4.0,>=0.3.0 in /usr/local/lib/python3.7/dist-packages (from spacy<3.1.0,>=3.0.0->en-core-web-sm==3.0.0) (0.3.2)\n",
            "Requirement already satisfied: cymem<2.1.0,>=2.0.2 in /usr/local/lib/python3.7/dist-packages (from spacy<3.1.0,>=3.0.0->en-core-web-sm==3.0.0) (2.0.5)\n",
            "Requirement already satisfied: preshed<3.1.0,>=3.0.2 in /usr/local/lib/python3.7/dist-packages (from spacy<3.1.0,>=3.0.0->en-core-web-sm==3.0.0) (3.0.5)\n",
            "Requirement already satisfied: requests<3.0.0,>=2.13.0 in /usr/local/lib/python3.7/dist-packages (from spacy<3.1.0,>=3.0.0->en-core-web-sm==3.0.0) (2.23.0)\n",
            "Requirement already satisfied: pydantic<1.8.0,>=1.7.1 in /usr/local/lib/python3.7/dist-packages (from spacy<3.1.0,>=3.0.0->en-core-web-sm==3.0.0) (1.7.3)\n",
            "Requirement already satisfied: packaging>=20.0 in /usr/local/lib/python3.7/dist-packages (from spacy<3.1.0,>=3.0.0->en-core-web-sm==3.0.0) (20.9)\n",
            "Requirement already satisfied: numpy>=1.15.0 in /usr/local/lib/python3.7/dist-packages (from spacy<3.1.0,>=3.0.0->en-core-web-sm==3.0.0) (1.19.5)\n",
            "Requirement already satisfied: tqdm<5.0.0,>=4.38.0 in /usr/local/lib/python3.7/dist-packages (from spacy<3.1.0,>=3.0.0->en-core-web-sm==3.0.0) (4.41.1)\n",
            "Requirement already satisfied: pathy>=0.3.5 in /usr/local/lib/python3.7/dist-packages (from spacy<3.1.0,>=3.0.0->en-core-web-sm==3.0.0) (0.5.0)\n",
            "Requirement already satisfied: wasabi<1.1.0,>=0.8.1 in /usr/local/lib/python3.7/dist-packages (from spacy<3.1.0,>=3.0.0->en-core-web-sm==3.0.0) (0.8.2)\n",
            "Requirement already satisfied: thinc<8.1.0,>=8.0.3 in /usr/local/lib/python3.7/dist-packages (from spacy<3.1.0,>=3.0.0->en-core-web-sm==3.0.0) (8.0.3)\n",
            "Requirement already satisfied: typing-extensions<4.0.0.0,>=3.7.4 in /usr/local/lib/python3.7/dist-packages (from spacy<3.1.0,>=3.0.0->en-core-web-sm==3.0.0) (3.7.4.3)\n",
            "Requirement already satisfied: setuptools in /usr/local/lib/python3.7/dist-packages (from spacy<3.1.0,>=3.0.0->en-core-web-sm==3.0.0) (56.0.0)\n",
            "Requirement already satisfied: catalogue<2.1.0,>=2.0.3 in /usr/local/lib/python3.7/dist-packages (from spacy<3.1.0,>=3.0.0->en-core-web-sm==3.0.0) (2.0.3)\n",
            "Requirement already satisfied: blis<0.8.0,>=0.4.0 in /usr/local/lib/python3.7/dist-packages (from spacy<3.1.0,>=3.0.0->en-core-web-sm==3.0.0) (0.4.1)\n",
            "Requirement already satisfied: murmurhash<1.1.0,>=0.28.0 in /usr/local/lib/python3.7/dist-packages (from spacy<3.1.0,>=3.0.0->en-core-web-sm==3.0.0) (1.0.5)\n",
            "Requirement already satisfied: zipp>=0.5 in /usr/local/lib/python3.7/dist-packages (from catalogue<2.1.0,>=2.0.3->spacy<3.1.0,>=3.0.0->en-core-web-sm==3.0.0) (3.4.1)\n",
            "Requirement already satisfied: pyparsing>=2.0.2 in /usr/local/lib/python3.7/dist-packages (from packaging>=20.0->spacy<3.1.0,>=3.0.0->en-core-web-sm==3.0.0) (2.4.7)\n",
            "Requirement already satisfied: smart-open<4.0.0,>=2.2.0 in /usr/local/lib/python3.7/dist-packages (from pathy>=0.3.5->spacy<3.1.0,>=3.0.0->en-core-web-sm==3.0.0) (3.0.0)\n",
            "Requirement already satisfied: idna<3,>=2.5 in /usr/local/lib/python3.7/dist-packages (from requests<3.0.0,>=2.13.0->spacy<3.1.0,>=3.0.0->en-core-web-sm==3.0.0) (2.10)\n",
            "Requirement already satisfied: urllib3!=1.25.0,!=1.25.1,<1.26,>=1.21.1 in /usr/local/lib/python3.7/dist-packages (from requests<3.0.0,>=2.13.0->spacy<3.1.0,>=3.0.0->en-core-web-sm==3.0.0) (1.24.3)\n",
            "Requirement already satisfied: chardet<4,>=3.0.2 in /usr/local/lib/python3.7/dist-packages (from requests<3.0.0,>=2.13.0->spacy<3.1.0,>=3.0.0->en-core-web-sm==3.0.0) (3.0.4)\n",
            "Requirement already satisfied: certifi>=2017.4.17 in /usr/local/lib/python3.7/dist-packages (from requests<3.0.0,>=2.13.0->spacy<3.1.0,>=3.0.0->en-core-web-sm==3.0.0) (2020.12.5)\n",
            "Requirement already satisfied: click<7.2.0,>=7.1.1 in /usr/local/lib/python3.7/dist-packages (from typer<0.4.0,>=0.3.0->spacy<3.1.0,>=3.0.0->en-core-web-sm==3.0.0) (7.1.2)\n",
            "Requirement already satisfied: MarkupSafe>=0.23 in /usr/local/lib/python3.7/dist-packages (from jinja2->spacy<3.1.0,>=3.0.0->en-core-web-sm==3.0.0) (1.1.1)\n",
            "Installing collected packages: en-core-web-sm\n",
            "  Attempting uninstall: en-core-web-sm\n",
            "    Found existing installation: en-core-web-sm 2.2.5\n",
            "    Uninstalling en-core-web-sm-2.2.5:\n",
            "      Successfully uninstalled en-core-web-sm-2.2.5\n",
            "Successfully installed en-core-web-sm-3.0.0\n",
            "\u001b[38;5;2m✔ Download and installation successful\u001b[0m\n",
            "You can now load the package via spacy.load('en_core_web_sm')\n"
          ],
          "name": "stdout"
        }
      ]
    },
    {
      "cell_type": "markdown",
      "metadata": {
        "id": "PucNdHESIRm1"
      },
      "source": [
        "Άντληση συνόλου stopwords"
      ]
    },
    {
      "cell_type": "code",
      "metadata": {
        "id": "UmWkmWrZIQuH"
      },
      "source": [
        "stop_words = spacy.lang.en.stop_words.STOP_WORDS"
      ],
      "execution_count": 17,
      "outputs": []
    },
    {
      "cell_type": "markdown",
      "metadata": {
        "id": "_K32SWQm_ecL"
      },
      "source": [
        "Ορισμός συνάρτησης για αφαίρεση σημείων στήξης, αριθμών και περίεργων συμβόλων:"
      ]
    },
    {
      "cell_type": "code",
      "metadata": {
        "id": "Gxvcs7y0_ohy"
      },
      "source": [
        "def text_preprocessing(text):\n",
        "  # Convert to lowercase\n",
        "  text = text.lower()\n",
        "  # Remove numbers\n",
        "  text = re.sub(r'\\d+','',text)\n",
        "  # Remove punctuation \n",
        "  text = text.translate(str.maketrans('','',string.punctuation))\n",
        "  # Remove whitespaces\n",
        "  text = text.strip()\n",
        "  # Remove stopwords and lemmatize\n",
        "  text_tokens = nlp(text)\n",
        "  text_lemmas = [token.lemma_ for token in text_tokens if not token.is_stop and token.lemma_ not in stop_words]\n",
        "\n",
        "  return ' '.join(text_lemmas)"
      ],
      "execution_count": 18,
      "outputs": []
    },
    {
      "cell_type": "markdown",
      "metadata": {
        "id": "y04yH8c4BmOk"
      },
      "source": [
        "Εφαρμογή της στα descriptions:"
      ]
    },
    {
      "cell_type": "code",
      "metadata": {
        "colab": {
          "base_uri": "https://localhost:8080/",
          "height": 521
        },
        "id": "s5urtdnvBqGL",
        "outputId": "13b2d2e0-0d9d-4b86-cc4e-aa4f93fde171"
      },
      "source": [
        "netflixMovies['preprocessed_description'] = netflixMovies['title_description'].apply(lambda row : text_preprocessing(row))\n",
        "netflixMovies[['show_id','title','preprocessed_description']]"
      ],
      "execution_count": 19,
      "outputs": [
        {
          "output_type": "stream",
          "text": [
            "/usr/local/lib/python3.7/dist-packages/ipykernel_launcher.py:1: SettingWithCopyWarning: \n",
            "A value is trying to be set on a copy of a slice from a DataFrame.\n",
            "Try using .loc[row_indexer,col_indexer] = value instead\n",
            "\n",
            "See the caveats in the documentation: https://pandas.pydata.org/pandas-docs/stable/user_guide/indexing.html#returning-a-view-versus-a-copy\n",
            "  \"\"\"Entry point for launching an IPython kernel.\n"
          ],
          "name": "stderr"
        },
        {
          "output_type": "execute_result",
          "data": {
            "text/html": [
              "<div>\n",
              "<style scoped>\n",
              "    .dataframe tbody tr th:only-of-type {\n",
              "        vertical-align: middle;\n",
              "    }\n",
              "\n",
              "    .dataframe tbody tr th {\n",
              "        vertical-align: top;\n",
              "    }\n",
              "\n",
              "    .dataframe thead th {\n",
              "        text-align: right;\n",
              "    }\n",
              "</style>\n",
              "<table border=\"1\" class=\"dataframe\">\n",
              "  <thead>\n",
              "    <tr style=\"text-align: right;\">\n",
              "      <th></th>\n",
              "      <th>show_id</th>\n",
              "      <th>title</th>\n",
              "      <th>preprocessed_description</th>\n",
              "    </tr>\n",
              "  </thead>\n",
              "  <tbody>\n",
              "    <tr>\n",
              "      <th>0</th>\n",
              "      <td>s1</td>\n",
              "      <td>3%</td>\n",
              "      <td>future elite inhabit island paradise far crowd...</td>\n",
              "    </tr>\n",
              "    <tr>\n",
              "      <th>1</th>\n",
              "      <td>s2</td>\n",
              "      <td>7:19</td>\n",
              "      <td>devastating earthquake hit mexico city trap su...</td>\n",
              "    </tr>\n",
              "    <tr>\n",
              "      <th>2</th>\n",
              "      <td>s3</td>\n",
              "      <td>23:59</td>\n",
              "      <td>army recruit find dead fellow soldier force co...</td>\n",
              "    </tr>\n",
              "    <tr>\n",
              "      <th>3</th>\n",
              "      <td>s4</td>\n",
              "      <td>9</td>\n",
              "      <td>postapocalyptic world ragdoll robot hide fear ...</td>\n",
              "    </tr>\n",
              "    <tr>\n",
              "      <th>4</th>\n",
              "      <td>s5</td>\n",
              "      <td>21</td>\n",
              "      <td>brilliant group student cardcounte expert inte...</td>\n",
              "    </tr>\n",
              "    <tr>\n",
              "      <th>...</th>\n",
              "      <td>...</td>\n",
              "      <td>...</td>\n",
              "      <td>...</td>\n",
              "    </tr>\n",
              "    <tr>\n",
              "      <th>7782</th>\n",
              "      <td>s7783</td>\n",
              "      <td>Zozo</td>\n",
              "      <td>zozo lebanon civil war deprive zozo family s l...</td>\n",
              "    </tr>\n",
              "    <tr>\n",
              "      <th>7783</th>\n",
              "      <td>s7784</td>\n",
              "      <td>Zubaan</td>\n",
              "      <td>zubaan scrappy poor boy worm way tycoon dysfun...</td>\n",
              "    </tr>\n",
              "    <tr>\n",
              "      <th>7784</th>\n",
              "      <td>s7785</td>\n",
              "      <td>Zulu Man in Japan</td>\n",
              "      <td>zulu man japan documentary south african rappe...</td>\n",
              "    </tr>\n",
              "    <tr>\n",
              "      <th>7785</th>\n",
              "      <td>s7786</td>\n",
              "      <td>Zumbo's Just Desserts</td>\n",
              "      <td>zumbo dessert dessert wizard adriano zumbo loo...</td>\n",
              "    </tr>\n",
              "    <tr>\n",
              "      <th>7786</th>\n",
              "      <td>s7787</td>\n",
              "      <td>ZZ TOP: THAT LITTLE OL' BAND FROM TEXAS</td>\n",
              "      <td>zz little ol band texas documentary delf mysti...</td>\n",
              "    </tr>\n",
              "  </tbody>\n",
              "</table>\n",
              "<p>7787 rows × 3 columns</p>\n",
              "</div>"
            ],
            "text/plain": [
              "     show_id  ...                           preprocessed_description\n",
              "0         s1  ...  future elite inhabit island paradise far crowd...\n",
              "1         s2  ...  devastating earthquake hit mexico city trap su...\n",
              "2         s3  ...  army recruit find dead fellow soldier force co...\n",
              "3         s4  ...  postapocalyptic world ragdoll robot hide fear ...\n",
              "4         s5  ...  brilliant group student cardcounte expert inte...\n",
              "...      ...  ...                                                ...\n",
              "7782   s7783  ...  zozo lebanon civil war deprive zozo family s l...\n",
              "7783   s7784  ...  zubaan scrappy poor boy worm way tycoon dysfun...\n",
              "7784   s7785  ...  zulu man japan documentary south african rappe...\n",
              "7785   s7786  ...  zumbo dessert dessert wizard adriano zumbo loo...\n",
              "7786   s7787  ...  zz little ol band texas documentary delf mysti...\n",
              "\n",
              "[7787 rows x 3 columns]"
            ]
          },
          "metadata": {
            "tags": []
          },
          "execution_count": 19
        }
      ]
    },
    {
      "cell_type": "markdown",
      "metadata": {
        "id": "QGYBNxwuWMYK"
      },
      "source": [
        "Δημιουργία **boolean BoW** representations για τις ταινίες:"
      ]
    },
    {
      "cell_type": "code",
      "metadata": {
        "colab": {
          "base_uri": "https://localhost:8080/"
        },
        "id": "GI7cLUY-WQOi",
        "outputId": "1a986d5a-10e9-4406-d384-a58044b74f94"
      },
      "source": [
        "countVectorizer = CountVectorizer(ngram_range=(1,2),binary=True,min_df=3,max_df=0.01)\n",
        "booleanBoW = countVectorizer.fit_transform(netflixMovies['preprocessed_description'].values).astype(bool).todense()\n",
        "booleanBoW.shape"
      ],
      "execution_count": 20,
      "outputs": [
        {
          "output_type": "execute_result",
          "data": {
            "text/plain": [
              "(7787, 8438)"
            ]
          },
          "metadata": {
            "tags": []
          },
          "execution_count": 20
        }
      ]
    },
    {
      "cell_type": "markdown",
      "metadata": {
        "id": "hYkNSxm7XBvn"
      },
      "source": [
        "Υπολογισμός **Jaccard/Tanimoto coefficient** για τις ταινίες:"
      ]
    },
    {
      "cell_type": "code",
      "metadata": {
        "id": "4BTerMpNam4F"
      },
      "source": [
        "jaccard_similarities = 1 - pairwise_distances(booleanBoW,metric='jaccard')"
      ],
      "execution_count": 21,
      "outputs": []
    },
    {
      "cell_type": "markdown",
      "metadata": {
        "id": "pgxk-RWE94sz"
      },
      "source": [
        "Υπολογισμός 100 πιο όμοιων ταινιών κάθε ταινίας με βάση το **Jaccard/Tanimoto coefficient** representation:"
      ]
    },
    {
      "cell_type": "code",
      "metadata": {
        "id": "T96OvoU2bicc"
      },
      "source": [
        "similar_movies_booleanBoW = {}\n",
        "for i in range(netflixMovies.shape[0]):\n",
        "  similar_movies_booleanBoW[netflixMovies['title'][i]] = [netflixMovies['title'][movie[0]] for movie in sorted(list(enumerate(jaccard_similarities[i])),key=lambda x : x[1],reverse=True)[:101] if movie[0] != i]"
      ],
      "execution_count": 23,
      "outputs": []
    },
    {
      "cell_type": "markdown",
      "metadata": {
        "id": "9rue4uca5Fos"
      },
      "source": [
        "Δημιουργία **TF-IDF** representations για τις ταινίες: "
      ]
    },
    {
      "cell_type": "code",
      "metadata": {
        "id": "f1_eUV3b5I5x",
        "colab": {
          "base_uri": "https://localhost:8080/"
        },
        "outputId": "c5b03c4a-2a1f-49b8-bdd8-e1f36c909987"
      },
      "source": [
        "tfIdfVectorizer = TfidfVectorizer(ngram_range=(1,2),min_df=2,max_df=0.01)\n",
        "tfIdf = tfIdfVectorizer.fit_transform(netflixMovies['preprocessed_description'].values)\n",
        "tfIdf"
      ],
      "execution_count": 24,
      "outputs": [
        {
          "output_type": "execute_result",
          "data": {
            "text/plain": [
              "<7787x15941 sparse matrix of type '<class 'numpy.float64'>'\n",
              "\twith 92216 stored elements in Compressed Sparse Row format>"
            ]
          },
          "metadata": {
            "tags": []
          },
          "execution_count": 24
        }
      ]
    },
    {
      "cell_type": "markdown",
      "metadata": {
        "id": "7ZMDtMqs9Ecl"
      },
      "source": [
        "Υπολογισμός cosine similarity για όλα τα ζεύγη ταινιών μεταξύ τους:"
      ]
    },
    {
      "cell_type": "code",
      "metadata": {
        "id": "TIGVXK4z9NeS"
      },
      "source": [
        "cosine_similarities = cosine_similarity(tfIdf)"
      ],
      "execution_count": 25,
      "outputs": []
    },
    {
      "cell_type": "markdown",
      "metadata": {
        "id": "ysigVK_y9fzz"
      },
      "source": [
        "Υπολογισμός 100 πιο όμοιων ταινιών κάθε ταινίας με βάση το **tf-Idf** representation:"
      ]
    },
    {
      "cell_type": "code",
      "metadata": {
        "id": "ywlQPv829eQo"
      },
      "source": [
        "similar_movies_tfidf = {}\n",
        "for i in range(netflixMovies.shape[0]):\n",
        "  similar_movies_tfidf[netflixMovies['title'][i]] = [netflixMovies['title'][movie[0]] for movie in sorted(list(enumerate(cosine_similarities[i])),key=lambda x : x[1],reverse=True)[:101] if movie[0] != i]"
      ],
      "execution_count": 26,
      "outputs": []
    },
    {
      "cell_type": "markdown",
      "metadata": {
        "id": "zsCfZ5Yelw1W"
      },
      "source": [
        "Ορισμός συνάρτησης get_similar_movies1:"
      ]
    },
    {
      "cell_type": "code",
      "metadata": {
        "id": "92S6-M-KOFjS"
      },
      "source": [
        "def get_similar_movies1(title, N=10, method='boolean'):\n",
        "  if method == 'boolean':\n",
        "    if title not in similar_movies_booleanBoW:\n",
        "      return []\n",
        "    return similar_movies_booleanBoW[title][:N]\n",
        "  elif method == 'tf-idf':\n",
        "    if title not in similar_movies_tfidf:\n",
        "      return []\n",
        "    return similar_movies_tfidf[title][:N]\n",
        "  else:\n",
        "    raise Exception('Invalid method ' + method)"
      ],
      "execution_count": 27,
      "outputs": []
    },
    {
      "cell_type": "markdown",
      "metadata": {
        "id": "bfdn6BYRl4_d"
      },
      "source": [
        "Μερικά παραδείγματα:"
      ]
    },
    {
      "cell_type": "code",
      "metadata": {
        "colab": {
          "base_uri": "https://localhost:8080/"
        },
        "id": "m5tiiF9pPnxo",
        "outputId": "8175925f-844a-477f-de43-71bc4a4e9fb2"
      },
      "source": [
        "for i in get_similar_movies1('Zumbo\\'s Just Desserts', N=10,method='tf-idf'):\n",
        "  print(i)"
      ],
      "execution_count": 28,
      "outputs": [
        {
          "output_type": "stream",
          "text": [
            "Willy Wonka & the Chocolate Factory\n",
            "Nailed It! France\n",
            "Charlie and the Chocolate Factory\n",
            "Nailed It! Holiday!\n",
            "The Apartment\n",
            "Nailed It! Mexico\n",
            "Rock My Heart\n",
            "Ink Master\n",
            "Amateur\n",
            "Aadu 2\n"
          ],
          "name": "stdout"
        }
      ]
    },
    {
      "cell_type": "code",
      "metadata": {
        "colab": {
          "base_uri": "https://localhost:8080/"
        },
        "id": "AhmYsS0wQ9L8",
        "outputId": "701d257e-b546-4c15-ebc6-be9ed83b29f6"
      },
      "source": [
        "for i in get_similar_movies1('Zumbo\\'s Just Desserts', N=10,method='boolean'):\n",
        "  print(i)"
      ],
      "execution_count": 29,
      "outputs": [
        {
          "output_type": "stream",
          "text": [
            "Nailed It! France\n",
            "Ink Master\n",
            "The Apartment\n",
            "Aadu 2\n",
            "Charlie and the Chocolate Factory\n",
            "Nailed It! Mexico\n",
            "Willy Wonka & the Chocolate Factory\n",
            "Rock My Heart\n",
            "Malibu Rescue: The Next Wave\n",
            "Fit for Fashion\n"
          ],
          "name": "stdout"
        }
      ]
    },
    {
      "cell_type": "code",
      "metadata": {
        "colab": {
          "base_uri": "https://localhost:8080/"
        },
        "id": "TJedlICwRdqk",
        "outputId": "851b4e99-762c-46e6-fd97-2f07b958323a"
      },
      "source": [
        "for i in get_similar_movies1('Zozo', N=10,method='tf-idf'):\n",
        "  print(i)"
      ],
      "execution_count": 30,
      "outputs": [
        {
          "output_type": "stream",
          "text": [
            "Ken Burns: The Civil War\n",
            "Lincoln\n",
            "Gun City\n",
            "El testigo\n",
            "The Endless Trench\n",
            "The Last Face\n",
            "Free State of Jones\n",
            "Vizontele Tuuba\n",
            "Beasts of No Nation\n",
            "Red vs. Blue\n"
          ],
          "name": "stdout"
        }
      ]
    },
    {
      "cell_type": "markdown",
      "metadata": {
        "id": "QGfL9tnBl9fM"
      },
      "source": [
        "Ορισμός συνάρτησης get_similar_movies2:"
      ]
    },
    {
      "cell_type": "code",
      "metadata": {
        "id": "2vAnDYcg-9JI"
      },
      "source": [
        "def get_similar_movies2(description,N=10,method='tf-idf'):\n",
        "  if method == 'tf-idf':\n",
        "    description = text_preprocessing(description)\n",
        "    tfIdfRepr = tfIdfVectorizer.transform([description])\n",
        "    sims = cosine_similarity(tfIdf,tfIdfRepr)\n",
        "    return sorted(zip(netflixMovies['title'].values,sims),key=lambda x : x[1],reverse=True)[:N]\n",
        "  elif method == 'boolean':\n",
        "    description = text_preprocessing(description)\n",
        "    bowRepr = countVectorizer.transform([description]).astype(np.bool).toarray()\n",
        "    sims = 1 - pairwise_distances(X=booleanBoW,Y=bowRepr,metric='jaccard')\n",
        "    return sorted(zip(netflixMovies['title'].values,sims),key=lambda x : x[1],reverse=True)[:N]\n",
        "  else:\n",
        "    raise Exception('Invalid method ' + method)"
      ],
      "execution_count": 31,
      "outputs": []
    },
    {
      "cell_type": "markdown",
      "metadata": {
        "id": "ZYmve72AmBz1"
      },
      "source": [
        "Μερικά παραδείγματα:"
      ]
    },
    {
      "cell_type": "code",
      "metadata": {
        "colab": {
          "base_uri": "https://localhost:8080/"
        },
        "id": "3OCe7B8FBACv",
        "outputId": "79ce6f10-9a89-47ef-ec03-e8e25ec59a7a"
      },
      "source": [
        "for i in get_similar_movies2('War between America and Vietnam', N=10,method='tf-idf'):\n",
        "  print(i[0] + \" : \" + str(i[1][0]))"
      ],
      "execution_count": 41,
      "outputs": [
        {
          "output_type": "stream",
          "text": [
            "The Sapphires : 0.34236463323907557\n",
            "The Vietnam War: A Film by Ken Burns and Lynn Novick : 0.33104422204189743\n",
            "Platoon : 0.3171921512775852\n",
            "Thi Mai : 0.2801646279257803\n",
            "Da 5 Bloods : 0.2763036476219275\n",
            "Hamburger Hill : 0.27040311945662027\n",
            "My Stupid Boss 2 : 0.25387544240627813\n",
            "3% : 0.0\n",
            "7:19 : 0.0\n",
            "23:59 : 0.0\n"
          ],
          "name": "stdout"
        }
      ]
    },
    {
      "cell_type": "code",
      "metadata": {
        "colab": {
          "base_uri": "https://localhost:8080/"
        },
        "id": "tvDgbENJFgau",
        "outputId": "df7cfcc4-0c79-4d6d-ebf7-ce6134545368"
      },
      "source": [
        "for i in get_similar_movies2('War between America and Vietnam', N=10,method='boolean'):\n",
        "  print(i[0] + \" : \" + str(i[1][0]))"
      ],
      "execution_count": 42,
      "outputs": [
        {
          "output_type": "stream",
          "text": [
            "The Sapphires : 0.1428571428571429\n",
            "Platoon : 0.11111111111111116\n",
            "Thi Mai : 0.09999999999999998\n",
            "Hamburger Hill : 0.09090909090909094\n",
            "My Stupid Boss 2 : 0.0714285714285714\n",
            "Da 5 Bloods : 0.0625\n",
            "The Vietnam War: A Film by Ken Burns and Lynn Novick : 0.052631578947368474\n",
            "3% : 0.0\n",
            "7:19 : 0.0\n",
            "23:59 : 0.0\n"
          ],
          "name": "stdout"
        }
      ]
    },
    {
      "cell_type": "code",
      "metadata": {
        "colab": {
          "base_uri": "https://localhost:8080/"
        },
        "id": "qhHxdv3DSIno",
        "outputId": "4b551e4e-04f0-40cf-ccdd-a730d02a798a"
      },
      "source": [
        "for i in get_similar_movies2('Robots', N=10,method='tf-idf'):\n",
        "  print(i[0] + \" : \" + str(i[1][0]))"
      ],
      "execution_count": 43,
      "outputs": [
        {
          "output_type": "stream",
          "text": [
            "Real Steel : 0.510993781043332\n",
            "Robot Trains : 0.44446515130520614\n",
            "ViR: The Robot Boy : 0.4392581771821902\n",
            "Tobot : 0.35187006768662366\n",
            "Gurren Lagann : 0.3369579406399719\n",
            "Better Than Us : 0.3214767304025398\n",
            "Power Players : 0.31773805810118494\n",
            "9 : 0.29925283385804696\n",
            "Robozuna : 0.29727877637720707\n",
            "Noddy Toyland Detective : 0.2814881815612288\n"
          ],
          "name": "stdout"
        }
      ]
    },
    {
      "cell_type": "code",
      "metadata": {
        "colab": {
          "base_uri": "https://localhost:8080/"
        },
        "id": "nxYoOpXNWXEQ",
        "outputId": "f3396a2a-9ad9-4a57-e23f-05152cb65925"
      },
      "source": [
        "for i in get_similar_movies2('Robots', N=10,method='boolean'):\n",
        "  print(i[0] + \" : \" + str(i[1][0]))"
      ],
      "execution_count": 44,
      "outputs": [
        {
          "output_type": "stream",
          "text": [
            "Gurren Lagann : 0.16666666666666663\n",
            "Better Than Us : 0.1428571428571429\n",
            "Real Steel : 0.1428571428571429\n",
            "Tobot : 0.1428571428571429\n",
            "9 : 0.125\n",
            "Automata : 0.125\n",
            "Power Players : 0.125\n",
            "Robot Trains : 0.125\n",
            "Terminator Salvation : 0.125\n",
            "Mystery Science Theater 3000: The Return : 0.11111111111111116\n"
          ],
          "name": "stdout"
        }
      ]
    },
    {
      "cell_type": "code",
      "metadata": {
        "colab": {
          "base_uri": "https://localhost:8080/"
        },
        "id": "WV3aalfMWbxv",
        "outputId": "98d1f235-78ec-42eb-b192-8abefd0aae35"
      },
      "source": [
        "for i in get_similar_movies2('Pandemic', N=10,method='tf-idf'):\n",
        "  print(i[0] + \" : \" + str(i[1][0]))"
      ],
      "execution_count": 45,
      "outputs": [
        {
          "output_type": "stream",
          "text": [
            "Pandemic: How to Prevent an Outbreak : 0.3354203987534745\n",
            "Coronavirus, Explained : 0.3079711007895488\n",
            "3% : 0.0\n",
            "7:19 : 0.0\n",
            "23:59 : 0.0\n",
            "9 : 0.0\n",
            "21 : 0.0\n",
            "46 : 0.0\n",
            "122 : 0.0\n",
            "187 : 0.0\n"
          ],
          "name": "stdout"
        }
      ]
    },
    {
      "cell_type": "code",
      "metadata": {
        "colab": {
          "base_uri": "https://localhost:8080/"
        },
        "id": "Ff-v0rEfsni7",
        "outputId": "3b0e3fa5-cc14-4a23-8887-5a6558e17e12"
      },
      "source": [
        "for i in get_similar_movies2('Pandemic', N=10,method='boolean'):\n",
        "  print(i[0] + \" : \" + str(i[1][0]))"
      ],
      "execution_count": 46,
      "outputs": [
        {
          "output_type": "stream",
          "text": [
            "3% : 0.0\n",
            "7:19 : 0.0\n",
            "23:59 : 0.0\n",
            "9 : 0.0\n",
            "21 : 0.0\n",
            "46 : 0.0\n",
            "122 : 0.0\n",
            "187 : 0.0\n",
            "706 : 0.0\n",
            "1920 : 0.0\n"
          ],
          "name": "stdout"
        }
      ]
    },
    {
      "cell_type": "code",
      "metadata": {
        "colab": {
          "base_uri": "https://localhost:8080/"
        },
        "id": "t04mVr1mRaqU",
        "outputId": "00055139-d235-4348-b729-82fcb339dac5"
      },
      "source": [
        "for i in get_similar_movies2('Science fiction', N=10,method='tf-idf'):\n",
        "  print(i[0] + \" : \" + str(i[1][0]))"
      ],
      "execution_count": 47,
      "outputs": [
        {
          "output_type": "stream",
          "text": [
            "Alien Worlds : 0.3215984012507619\n",
            "John & Jane : 0.30063263257751066\n",
            "The Silence of the Marsh : 0.27710996306910535\n",
            "Bill Nye: Science Guy : 0.27400936568263556\n",
            "Pulp Fiction : 0.25994752256377196\n",
            "Brainchild : 0.23429289895075722\n",
            "Sid the Science Kid : 0.23219302787976584\n",
            "Mars : 0.22765183604817002\n",
            "Stranger than Fiction : 0.22232323286536407\n",
            "Strangers from Hell : 0.21584571423331173\n"
          ],
          "name": "stdout"
        }
      ]
    },
    {
      "cell_type": "code",
      "metadata": {
        "colab": {
          "base_uri": "https://localhost:8080/"
        },
        "id": "XoDsIYx_ssHz",
        "outputId": "148487e5-9c5b-43bb-d770-381c7fe26803"
      },
      "source": [
        "for i in get_similar_movies2('Science fiction', N=10,method='boolean'):\n",
        "  print(i[0] + \" : \" + str(i[1][0]))"
      ],
      "execution_count": 48,
      "outputs": [
        {
          "output_type": "stream",
          "text": [
            "Alien Worlds : 0.15384615384615385\n",
            "Brainchild : 0.1428571428571429\n",
            "Connected : 0.1428571428571429\n",
            "NOVA: Prediction by the Numbers : 0.1428571428571429\n",
            "Project Mc² : 0.125\n",
            "Cold Case Files : 0.11111111111111116\n",
            "Earth to Luna! : 0.11111111111111116\n",
            "Igor : 0.11111111111111116\n",
            "John & Jane : 0.11111111111111116\n",
            "Mars : 0.11111111111111116\n"
          ],
          "name": "stdout"
        }
      ]
    },
    {
      "cell_type": "code",
      "metadata": {
        "colab": {
          "base_uri": "https://localhost:8080/"
        },
        "id": "WtUjmLCmSA9x",
        "outputId": "9b67eedb-81bf-4021-c8ab-564f3d86c7ea"
      },
      "source": [
        "for i in get_similar_movies2('Music concert', N=20,method='tf-idf'):\n",
        "  print(i[0] + \" : \" + str(i[1][0]))"
      ],
      "execution_count": 49,
      "outputs": [
        {
          "output_type": "stream",
          "text": [
            "One Heart: The A.R. Rahman Concert Film : 0.37409758460742376\n",
            "Richard Pryor: Live in Concert : 0.3536276466599124\n",
            "Falz Experience : 0.3079192271767331\n",
            "Once In A Lifetime Sessions with TLC : 0.28914434762528185\n",
            "Justin Bieber: Never Say Never : 0.27302775778429667\n",
            "Mayday Life : 0.2539718864185208\n",
            "2015 Dream Concert : 0.2407128626411797\n",
            "Emicida: AmarElo - It’s All For Yesterday : 0.24057388921869685\n",
            "Los Tigres del Norte at Folsom Prison : 0.23156954263972285\n",
            "Sky Tour: The Movie : 0.22458349165756358\n",
            "Get Him to the Greek : 0.22450920395797994\n",
            "Ratones Paranoicos: The Band that Rocked Argentina : 0.2179320302881531\n",
            "We Summon the Darkness : 0.2167199997204141\n",
            "Nasha Natasha : 0.21449310144843153\n",
            "One Direction: This Is Us : 0.21110133956671157\n",
            "Hans Zimmer: Live in Prague : 0.20632041018968783\n",
            "Once In A Lifetime Sessions with Nile Rodgers : 0.19842420712962647\n",
            "Chris Brown: Welcome to My Life : 0.19608354682620824\n",
            "The Magic School Bus Rides Again In the Zone : 0.18901050541726064\n",
            "Once in a Lifetime Sessions with Snow Patrol : 0.1811382519001714\n"
          ],
          "name": "stdout"
        }
      ]
    },
    {
      "cell_type": "code",
      "metadata": {
        "colab": {
          "base_uri": "https://localhost:8080/"
        },
        "id": "gGhf6Zu_s2Rj",
        "outputId": "74d401e2-49eb-4533-b529-d6461fe09126"
      },
      "source": [
        "for i in get_similar_movies2('Music concert', N=20,method='boolean'):\n",
        "  print(i[0] + \" : \" + str(i[1][0]))"
      ],
      "execution_count": 50,
      "outputs": [
        {
          "output_type": "stream",
          "text": [
            "Justin Bieber: Never Say Never : 0.125\n",
            "Once In A Lifetime Sessions with TLC : 0.125\n",
            "One Heart: The A.R. Rahman Concert Film : 0.11111111111111116\n",
            "Sky Tour: The Movie : 0.11111111111111116\n",
            "2015 Dream Concert : 0.09999999999999998\n",
            "Falz Experience : 0.09999999999999998\n",
            "Mayday Life : 0.09999999999999998\n",
            "Shawn Mendes: Live in Concert : 0.09999999999999998\n",
            "Hans Zimmer: Live in Prague : 0.09090909090909094\n",
            "Los Tigres del Norte at Folsom Prison : 0.09090909090909094\n",
            "Emicida: AmarElo - It’s All For Yesterday : 0.08333333333333337\n",
            "Nasha Natasha : 0.08333333333333337\n",
            "One Direction: This Is Us : 0.08333333333333337\n",
            "Ratones Paranoicos: The Band that Rocked Argentina : 0.08333333333333337\n",
            "Chris Brown: Welcome to My Life : 0.0714285714285714\n",
            "Once In A Lifetime Sessions with Nile Rodgers : 0.0714285714285714\n",
            "We Summon the Darkness : 0.0714285714285714\n",
            "Get Him to the Greek : 0.06666666666666665\n",
            "Mike Birbiglia: What I Should Have Said Was Nothing: Tales from My Secret Public Journal : 0.06666666666666665\n",
            "No Direction Home: Bob Dylan : 0.06666666666666665\n"
          ],
          "name": "stdout"
        }
      ]
    },
    {
      "cell_type": "code",
      "metadata": {
        "colab": {
          "base_uri": "https://localhost:8080/"
        },
        "id": "HdefsIr3jS9P",
        "outputId": "aa83b0e9-0b09-4630-c3b9-3251dadb1f5a"
      },
      "source": [
        "for i in get_similar_movies2('Space', N=10,method='tf-idf'):\n",
        "  print(i[0] + \" : \" + str(i[1][0]))"
      ],
      "execution_count": 51,
      "outputs": [
        {
          "output_type": "stream",
          "text": [
            "Space Force : 0.5003590177203311\n",
            "Star Trek: Deep Space Nine : 0.4990371141252174\n",
            "Space Racers : 0.41670614045649607\n",
            "The Mars Generation : 0.4094698437467324\n",
            "Pinkfong & Baby Shark's Space Adventure : 0.362481290563173\n",
            "The Epic Tales of Captain Underpants in Space : 0.32667039820958427\n",
            "Parasyte: The Maxim : 0.3264578767457386\n",
            "Gagarin: First in Space : 0.31243431719973724\n",
            "Pocoyo Halloween: Space Halloween : 0.30972747587245897\n",
            "The Magic School Bus Rides Again Kids In Space : 0.30492546625140865\n"
          ],
          "name": "stdout"
        }
      ]
    },
    {
      "cell_type": "code",
      "metadata": {
        "colab": {
          "base_uri": "https://localhost:8080/"
        },
        "id": "NCBc9DAYtDsa",
        "outputId": "15b1f2ab-76ab-4e32-94bc-c8ae16fdde0f"
      },
      "source": [
        "for i in get_similar_movies2('Space', N=10,method='boolean'):\n",
        "  print(i[0] + \" : \" + str(i[1][0]))"
      ],
      "execution_count": 52,
      "outputs": [
        {
          "output_type": "stream",
          "text": [
            "14 Minutes from Earth : 0.25\n",
            "Houston, We Have a Problem! : 0.16666666666666663\n",
            "Parasyte: The Maxim : 0.16666666666666663\n",
            "Antariksha Ke Rakhwale : 0.1428571428571429\n",
            "Gagarin: First in Space : 0.1428571428571429\n",
            "Miniforce X : 0.1428571428571429\n",
            "Space Force : 0.1428571428571429\n",
            "The Space Between Us : 0.1428571428571429\n",
            "A Year In Space : 0.125\n",
            "Lost in Space : 0.125\n"
          ],
          "name": "stdout"
        }
      ]
    },
    {
      "cell_type": "code",
      "metadata": {
        "colab": {
          "base_uri": "https://localhost:8080/"
        },
        "id": "dlzPmXm_mgBS",
        "outputId": "8b71436b-cdf8-47af-8d9e-e4f959528a4e"
      },
      "source": [
        "for i in get_similar_movies2('Horror', N=10,method='tf-idf'):\n",
        "  print(i[0] + \" : \" + str(i[1][0]))"
      ],
      "execution_count": 53,
      "outputs": [
        {
          "output_type": "stream",
          "text": [
            "American Horror Story : 0.48446982969994956\n",
            "The Amityville Horror : 0.47515851468491416\n",
            "Christina P: Mother Inferior : 0.31561749736946026\n",
            "Haunters: The Art of the Scare : 0.3020690333860253\n",
            "Horror Homes : 0.2974174118409721\n",
            "Danur: I Can See Ghosts : 0.2837474141129825\n",
            "Soul Robbers : 0.2834267922950169\n",
            "Darna Mana Hai : 0.28219173729787206\n",
            "Phobia 2 : 0.26682471840087113\n",
            "Ghosts of War : 0.262130070405208\n"
          ],
          "name": "stdout"
        }
      ]
    },
    {
      "cell_type": "code",
      "metadata": {
        "colab": {
          "base_uri": "https://localhost:8080/"
        },
        "id": "fPl-VfMdtIwY",
        "outputId": "cb528f4e-208d-41cc-9af9-b3de6b92c3e2"
      },
      "source": [
        "for i in get_similar_movies2('Horror', N=10,method='boolean'):\n",
        "  print(i[0] + \" : \" + str(i[1][0]))"
      ],
      "execution_count": 54,
      "outputs": [
        {
          "output_type": "stream",
          "text": [
            "Christina P: Mother Inferior : 0.16666666666666663\n",
            "Danur: I Can See Ghosts : 0.16666666666666663\n",
            "Haunters: The Art of the Scare : 0.1428571428571429\n",
            "Horror Homes : 0.1428571428571429\n",
            "Prank Encounters : 0.1428571428571429\n",
            "Ragini MMS 2 : 0.1428571428571429\n",
            "Scream 3 : 0.1428571428571429\n",
            "Eve's Apple : 0.125\n",
            "I Am the Pretty Thing That Lives in the House : 0.11111111111111116\n",
            "Penny Dreadful : 0.11111111111111116\n"
          ],
          "name": "stdout"
        }
      ]
    },
    {
      "cell_type": "code",
      "metadata": {
        "colab": {
          "base_uri": "https://localhost:8080/"
        },
        "id": "doouwDYooFW3",
        "outputId": "0087279d-e334-44c5-c2a0-eab219c0ff35"
      },
      "source": [
        "for i in get_similar_movies2('Zombies', N=10,method='tf-idf'):\n",
        "  print(i[0] + \" : \" + str(i[1][0]))"
      ],
      "execution_count": 55,
      "outputs": [
        {
          "output_type": "stream",
          "text": [
            "Scooby-Doo on Zombie Island : 0.5514860433259463\n",
            "Zombie Dumb : 0.47301541617383724\n",
            "Zombieland : 0.3772999688662322\n",
            "The Last Kids on Earth : 0.3508320712858263\n",
            "Rise of the Zombie : 0.3145876478820598\n",
            "Here Alone : 0.3026797633626016\n",
            "ParaNorman : 0.28486851284414044\n",
            "Black Summer : 0.2768067608493\n",
            "Train to Busan : 0.27568247427180503\n",
            "The Rezort : 0.2630461327500291\n"
          ],
          "name": "stdout"
        }
      ]
    },
    {
      "cell_type": "code",
      "metadata": {
        "colab": {
          "base_uri": "https://localhost:8080/"
        },
        "id": "f-rnT056tM-Z",
        "outputId": "e8162c5a-b629-4cc1-a0fa-e967cf061fb8"
      },
      "source": [
        "for i in get_similar_movies2('Zombies', N=10,method='boolean'):\n",
        "  print(i[0] + \" : \" + str(i[1][0]))"
      ],
      "execution_count": 56,
      "outputs": [
        {
          "output_type": "stream",
          "text": [
            "Zombieland : 0.25\n",
            "Here Alone : 0.1428571428571429\n",
            "The Last Kids on Earth : 0.1428571428571429\n",
            "Rise of the Zombie : 0.125\n",
            "Scooby-Doo on Zombie Island : 0.125\n",
            "My Babysitter's a Vampire : 0.11111111111111116\n",
            "Train to Busan : 0.11111111111111116\n",
            "ParaNorman : 0.09999999999999998\n",
            "Zombie Dumb : 0.09999999999999998\n",
            "Bill Burr: I'm Sorry You Feel That Way : 0.09090909090909094\n"
          ],
          "name": "stdout"
        }
      ]
    },
    {
      "cell_type": "code",
      "metadata": {
        "colab": {
          "base_uri": "https://localhost:8080/"
        },
        "id": "9AwvgsBcoaRG",
        "outputId": "0e2cc04a-d7c4-476b-c784-7f82e8acb736"
      },
      "source": [
        "for i in get_similar_movies2('Internet', N=10,method='tf-idf'):\n",
        "  print(i[0] + \" : \" + str(i[1][0]))"
      ],
      "execution_count": 57,
      "outputs": [
        {
          "output_type": "stream",
          "text": [
            "Ralph Breaks the Internet: Wreck-It Ralph 2 : 0.5514558597059731\n",
            "Internet Famous : 0.5018602643477973\n",
            "The Platform : 0.4127423921954115\n",
            "Jem and the Holograms : 0.34007723883688745\n",
            "Last Tango in Halifax : 0.33219523595583095\n",
            "Click for Murder : 0.31670474578959196\n",
            "​​Kuch Bheege Alfaaz : 0.3147233260084438\n",
            "Jezebel : 0.301806747303761\n",
            "Abzurdah : 0.2926641150182944\n",
            "The King's Avatar : 0.2869128678286888\n"
          ],
          "name": "stdout"
        }
      ]
    },
    {
      "cell_type": "code",
      "metadata": {
        "colab": {
          "base_uri": "https://localhost:8080/"
        },
        "id": "q_bdrSsOtbHS",
        "outputId": "328bbd26-cfbf-42be-e100-63cc9a21a140"
      },
      "source": [
        "for i in get_similar_movies2('Internet', N=10,method='boolean'):\n",
        "  print(i[0] + \" : \" + str(i[1][0]))"
      ],
      "execution_count": 58,
      "outputs": [
        {
          "output_type": "stream",
          "text": [
            "​​Kuch Bheege Alfaaz : 0.19999999999999996\n",
            "Jem and the Holograms : 0.19999999999999996\n",
            "Ralph Breaks the Internet: Wreck-It Ralph 2 : 0.16666666666666663\n",
            "Sommore: Chandelier Status : 0.16666666666666663\n",
            "The Platform : 0.16666666666666663\n",
            "Bad Match : 0.125\n",
            "Click for Murder : 0.125\n",
            "Internet Famous : 0.125\n",
            "Jezebel : 0.125\n",
            "Last Tango in Halifax : 0.125\n"
          ],
          "name": "stdout"
        }
      ]
    },
    {
      "cell_type": "code",
      "metadata": {
        "colab": {
          "base_uri": "https://localhost:8080/"
        },
        "id": "vPmm2z67odww",
        "outputId": "c37b5dab-799d-471e-e32e-9fdf4915def0"
      },
      "source": [
        "for i in get_similar_movies2('Bullying', N=10,method='tf-idf'):\n",
        "  print(i[0] + \" : \" + str(i[1][0]))"
      ],
      "execution_count": 59,
      "outputs": [
        {
          "output_type": "stream",
          "text": [
            "Bully : 0.5389706434098522\n",
            "Sotus The Series : 0.30006343404007974\n",
            "My True Friend : 0.29343778122932557\n",
            "Noblemen : 0.2915533570664836\n",
            "Hjørdis : 0.2764805253151575\n",
            "Tong: Memories : 0.27615079738839726\n",
            "Age of Rebellion : 0.27378705830071903\n",
            "The Christmas Project : 0.26624292509412634\n",
            "Nimbe : 0.26219415620786385\n",
            "King Jack : 0.25784724145044624\n"
          ],
          "name": "stdout"
        }
      ]
    },
    {
      "cell_type": "code",
      "metadata": {
        "colab": {
          "base_uri": "https://localhost:8080/"
        },
        "id": "dJbKlYfQtf0B",
        "outputId": "4b9af082-88dd-456b-fc7d-32a1500f53ab"
      },
      "source": [
        "for i in get_similar_movies2('Bullying', N=10,method='boolean'):\n",
        "  print(i[0] + \" : \" + str(i[1][0]))"
      ],
      "execution_count": 60,
      "outputs": [
        {
          "output_type": "stream",
          "text": [
            "Bully : 0.16666666666666663\n",
            "My True Friend : 0.1428571428571429\n",
            "Noblemen : 0.1428571428571429\n",
            "Karthik Calling Karthik : 0.125\n",
            "Sotus The Series : 0.125\n",
            "Age of Rebellion : 0.11111111111111116\n",
            "Girl's Revenge : 0.11111111111111116\n",
            "John Leguizamo's Latin History for Morons : 0.11111111111111116\n",
            "King Jack : 0.11111111111111116\n",
            "Nimbe : 0.11111111111111116\n"
          ],
          "name": "stdout"
        }
      ]
    },
    {
      "cell_type": "code",
      "metadata": {
        "colab": {
          "base_uri": "https://localhost:8080/"
        },
        "id": "78CtPd4konhG",
        "outputId": "7d132ea7-5b93-4781-a9d4-9b0664cb6d6d"
      },
      "source": [
        "for i in get_similar_movies2('soap opera', N=10,method='tf-idf'):\n",
        "  print(i[0] + \" : \" + str(i[1][0]))"
      ],
      "execution_count": 61,
      "outputs": [
        {
          "output_type": "stream",
          "text": [
            "The Windsors : 0.5077288864538045\n",
            "Palazuelos mi rey : 0.49741831575516715\n",
            "You Carry Me : 0.44518491619002487\n",
            "Y.M.I.: Yeh Mera India : 0.38458436808197666\n",
            "The Phantom of the Opera : 0.28892003818469386\n",
            "Dynasty : 0.1869048263374429\n",
            "Arango y Sanint: Ríase el show : 0.16760851766401275\n",
            "Quartet : 0.16282993780303157\n",
            "Dawson's Creek : 0.15495077326101994\n",
            "Painted Faces : 0.1451335834248685\n"
          ],
          "name": "stdout"
        }
      ]
    },
    {
      "cell_type": "code",
      "metadata": {
        "colab": {
          "base_uri": "https://localhost:8080/"
        },
        "id": "-Q0tz6Q5tn_X",
        "outputId": "2310e0a0-7d67-4839-f714-76d508ed0a4c"
      },
      "source": [
        "for i in get_similar_movies2('soap opera', N=10,method='boolean'):\n",
        "  print(i[0] + \" : \" + str(i[1][0]))"
      ],
      "execution_count": 62,
      "outputs": [
        {
          "output_type": "stream",
          "text": [
            "Palazuelos mi rey : 0.2727272727272727\n",
            "The Windsors : 0.2727272727272727\n",
            "You Carry Me : 0.1875\n",
            "Y.M.I.: Yeh Mera India : 0.17647058823529416\n",
            "Dynasty : 0.09999999999999998\n",
            "The Phantom of the Opera : 0.07692307692307687\n",
            "Arango y Sanint: Ríase el show : 0.0714285714285714\n",
            "Dawson's Creek : 0.0714285714285714\n",
            "Painted Faces : 0.0714285714285714\n",
            "Quartet : 0.0625\n"
          ],
          "name": "stdout"
        }
      ]
    },
    {
      "cell_type": "markdown",
      "metadata": {
        "id": "KjQK09TDQhRP"
      },
      "source": [
        "**Παρατήρηση:** \\\\\n",
        "Παρατηρούμε πως σε κάποια αποτελέσματα υπάρχουμ εμφανείς αστοχίες. Αυτό οφείλεται κυρίως στο γεγονός ότι έχουμε μειώσει το λεξιλόγιο με αποτέλεσμα να παραλείπονται αρκετές ομοιότητες. Επιπλέον η ευστοχία των αποτελεσμάτων επηρεάζεται και απο την μετρική που χρησιμοποιείται. Οπότε στο Jaccard similarity αναμένουμε μικρότερη ακρίβεια καθώς ακόμα και σε μικρές διαφορές έχει μεγάλη επίδραση."
      ]
    }
  ]
}